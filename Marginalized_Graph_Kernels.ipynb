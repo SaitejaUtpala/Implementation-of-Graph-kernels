{
  "nbformat": 4,
  "nbformat_minor": 0,
  "metadata": {
    "colab": {
      "name": "Marginalized Graph Kernels.ipynb",
      "provenance": [],
      "collapsed_sections": []
    },
    "kernelspec": {
      "name": "python3",
      "display_name": "Python 3"
    }
  },
  "cells": [
    {
      "cell_type": "markdown",
      "metadata": {
        "id": "BVfUFErb5Aem"
      },
      "source": [
        "#**Marginalized Graph Kernels**\r\n",
        "\r\n",
        "Marginalized Graph Kernels are kernels based on random walks proposed in  [Marginalized Graph Kernels Between Labeled Graphs](https://www.aaai.org/Papers/ICML/2003/ICML03-044.pdf)"
      ]
    },
    {
      "cell_type": "markdown",
      "metadata": {
        "id": "PW8spCUg6Sas"
      },
      "source": [
        "Recursive Derivation of Kernel\r\n",
        "\r\n",
        "$$\\begin{align}K(G,G') & = \\sum_{\\ell = 1}^{\\infty} \\sum_{h} \\sum_{h'} p_{s}(h_1) p_{t} \\prod_{i=2}^{\\ell}(h_{i} | h_{i-1}) p_{q}(h_{\\ell}) \\,.\\, p'_{s}(h_1) p'_{t} \\prod_{i=2}^{\\ell}(h_{i} | h_{i-1}) p'_{q}(h_{\\ell}) \\,.\\, k(v_{h_1} , v'_{h_1'}) \\prod_{i=2}^{\\ell} k(e_{h_{i-1}h_i}, e'_{h'_{i-1}h'_{i}}) k(v_{h_k} , v'_{h_k'}) \\\\\r\n",
        "&=  \r\n",
        "\\end{align}$$"
      ]
    },
    {
      "cell_type": "code",
      "metadata": {
        "id": "ruhqLMIh7hz3"
      },
      "source": [
        ""
      ],
      "execution_count": null,
      "outputs": []
    }
  ]
}