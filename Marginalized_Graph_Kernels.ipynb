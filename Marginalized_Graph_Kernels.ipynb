{
  "nbformat": 4,
  "nbformat_minor": 0,
  "metadata": {
    "colab": {
      "name": "Marginalized Graph Kernels.ipynb",
      "provenance": [],
      "collapsed_sections": []
    },
    "kernelspec": {
      "name": "python3",
      "display_name": "Python 3"
    }
  },
  "cells": [
    {
      "cell_type": "markdown",
      "metadata": {
        "id": "BVfUFErb5Aem"
      },
      "source": [
        "#**Marginalized Graph Kernels**\r\n",
        "\r\n",
        "Marginalized Graph Kernels are kernels based on random walks proposed in  [Marginalized Graph Kernels Between Labeled Graphs](https://www.aaai.org/Papers/ICML/2003/ICML03-044.pdf)"
      ]
    },
    {
      "cell_type": "markdown",
      "metadata": {
        "id": "PW8spCUg6Sas"
      },
      "source": [
        "Recursive Derivation of Kernel\r\n",
        "\r\n",
        "$$\\begin{align}K(G,G') & = \\sum_{\\ell = 1}^{\\infty} \\sum_{\\textbf{h}} \\sum_{\\textbf{h}'} p_{s}(h_1) p_{t} \\prod_{i=2}^{\\ell} p(h_{i} | h_{i-1}) p_{q}(h_{\\ell}) \\,.\\, p'_{s}(h_1) p'_{t} \\prod_{i=2}^{\\ell}p(h_{i} | h_{i-1}) p'_{q}(h_{\\ell}') \\,.\\, k(v_{h_1} , v'_{h_1'}) \\prod_{i=2}^{\\ell} k(e_{h_{i-1}h_i}, e'_{h'_{i-1}h'_{i}}) k(v_{h_k} , v'_{h_k'}) \\\\\r\n",
        "&=  \\sum_{\\ell = 1}^{\\infty} \\bigg( \\sum_{h_1,h_1'} \\big( p_{s}(h_1) p_{s}'(h_1') k(v_{h_1} , v'_{h_1'}) \\big)  \\times \\sum_{h_2,h_2'} \\left( p(h_2|h_{1}) p(h'_2|h'_{1}) k(v_{h_2} , v'_{h_2'}) k(e_{h_{1}h_2}, e'_{h'_{1}h'_{2}}) \\right) \\times \\dots  \\sum_{h_{\\ell},h_{\\ell}'} \\left( p(h_{\\ell}|h_{\\ell-1}) p(h'_{\\ell}|h'_{\\ell-1}) k(v_{h_{\\ell}} , v'_{h_{\\ell}'}) k(e_{h_{\\ell-1}h_{\\ell}}, e'_{h'_{\\ell-1}h'_{\\ell}}) \\right) . \\left( p_{q}(h_{\\ell}) .  p'_{q}(h'_{\\ell}) \\right)\r\n",
        "\\end{align}$$\r\n",
        "\r\n",
        "\r\n",
        "$\\begin{align*}\r\n",
        "    s(h_{1},h'_{1}) & := p_{s}(h_1) p_{s}'(h_{1}') k(v_{h_1} , v'_{h_1'}) \\\\\r\n",
        "    t(h_{i},h'_{i},h_{i-1},h'_{i-1}) &:= p(h_{i}|h_{i-1}) p(h'_{i}|h'_{i-1}) k(v_{h_{i}} , v'_{h_i'}) k(e_{h_{i-1}h_{i}}, e'_{h'_{i-1}h'_{i}})\\\\\r\n",
        "    q(h_{\\ell} , h_{\\ell}') &:=  p_{q}(h_{\\ell}) .  p'_{q}(h'_{\\ell})  \\\\\r\n",
        "  \r\n",
        "\\end{align*}$\r\n",
        "\r\n",
        "$$\\begin{align*}K(G,G') &= \\sum_{\\ell = 1}^{\\infty} \\bigg[ \\sum_{h_{1},h_{1}'} s(h_1,h_{1}') \\color{red}{\\sum_{h_2,h'_2}t(h_2,h_2',h_{1},h_{1}') \\dots \\sum_{h_{\\ell}, h_{\\ell}'} t(h_{i},h_{i}',h_{i-1},h_{i-1}') q(h_{\\ell} , h_{\\ell}')} \\bigg] \\\\\r\n",
        "&=  \\lim_{L \\rightarrow \\infty} \\sum_{\\ell =1}^{L} \\sum_{h_1,h_1'} s(h_1,h_1')  \\color{red}{r_{\\ell}(h_{1} , h_{1}')} \\\\\r\n",
        "&=   \\sum_{h_1,h_1'} s(h_1,h_1') \\lim_{L \\rightarrow \\infty} \\color{cyan}{\\sum_{\\ell =1}^{L} r_{\\ell}(h_{1} , h_{1}')}\\\\\r\n",
        "&=  \\sum_{h_1,h_1'} s(h_1,h_1') \\lim_{L \\rightarrow \\infty} \\color{cyan}{ R_{L}(h_{1} , h_{1}')}\r\n",
        "\\end{align*}$$\r\n",
        "\r\n",
        "$\\begin{align*}\r\n",
        "    r_{\\ell}(h_{1},h'_{1}) & := \\sum_{h_2,h'_2}t(h_2,h_2',h_{1},h_{1}') \\dots \\sum_{h_{\\ell}, h_{\\ell}'} t(h_{i},h_{i}',h_{i-1},h_{i-1}') q(h_{\\ell} , h_{\\ell}')  \\\\\r\n",
        "   R_{L}(h_{1},h_{1}') &: = \\sum_{\\ell=1}^{L} r_{\\ell}(h_{1},h'_{1}) &\r\n",
        "\\end{align*}$\r\n",
        "\r\n",
        "\r\n",
        "$$\\begin{align*} r_{k}(h_{1} , h_{1}')&= \\sum_{i,j} t(i,j,h_{1},h_{1}') r_{k-1} (i,j)\r\n",
        "\\end{align*}$$\r\n",
        "\r\n",
        "$$\\begin{align*} R_{L}(h_1,h_1')&= \\sum_{\\ell=1}^{L} r_{\\ell}(h_{1},h'_{1}) \\\\\r\n",
        "&= r_{1}(h_1,h_{1}') + \\sum_{\\ell=2}^{L} r_{\\ell}(h_{1},h_{1}')\\\\\r\n",
        "&= r_{1}(h_1,h_{1}') + \\sum_{\\ell=2}^{L} \\sum_{i,j} t(i,j,h_{1},h_{1}') r_{\\ell-1} (i,j)\\\\\r\n",
        "&= r_{1}(h_1,h_{1}') +  \\sum_{i,j} t(i,j,h_{1},h_{1}')  \\sum_{\\ell=2}^{L} r_{\\ell-1} (i,j) \\\\\r\n",
        "&= r_{1}(h_1,h_{1}') +  \\sum_{i,j} t(i,j,h_{1},h_{1}')  R_{L-1}(i,j) \\\\\r\n",
        "\\end{align*}$$"
      ]
    },
    {
      "cell_type": "code",
      "metadata": {
        "id": "ruhqLMIh7hz3"
      },
      "source": [
        ""
      ],
      "execution_count": null,
      "outputs": []
    }
  ]
}