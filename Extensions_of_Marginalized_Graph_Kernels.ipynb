{
  "nbformat": 4,
  "nbformat_minor": 0,
  "metadata": {
    "colab": {
      "name": "Extensions of Marginalized Graph Kernels.ipynb",
      "provenance": [],
      "collapsed_sections": []
    },
    "kernelspec": {
      "name": "python3",
      "display_name": "Python 3"
    }
  },
  "cells": [
    {
      "cell_type": "markdown",
      "metadata": {
        "id": "cpgITei5ZYxj"
      },
      "source": [
        "#**Labeled Graph Kernels** :\n",
        "\n",
        "Definitions\n",
        "\n",
        "$ \\begin{align*}\n",
        "G &: \\text{labeled graph}  (V,E,l) \\\\\n",
        "V &: \\text{set of vertices} \\\\\n",
        "E &: \\text{set of edges} \\subset V \\times V \\\\\n",
        "A &: \\text{set of allowed labels} \\\\\n",
        "l &: \\text{labeling function} V \\cup E \\rightarrow A \\\\\n",
        "d(v) &: \\text{number of edges emanating from vertex } v \\\\\n",
        "V^{*} &: \\text{set of all finite-length sequences of vertices}\\\\\n",
        "h &: \\text{path which is finite-length sequence of vertices } h \\in V^{*} \\text{ s.t } (v_i,v_{i+1}) \\in E\\\\\n",
        "H(G) &: \\text{set of all paths in } G \\\\\n",
        "A^{*} &: \\text{set of all finite-length sequence of labels} \\\\\n",
        "l &: \\text{overloaded labeling function }  l:H(G) \\rightarrow A^{*}\\\\\n",
        "   &\\quad h  = (v_1,v_2,\\dots,v_n) \\in H(G) \\text{ then } \\\\\n",
        "   &\\quad l(h) = (l(v_1),l(v_1,v_2),l(v_2),\\dots,l(v_{n-1}v_{n}),l(v_{n}))\\in A^{2n-1}\n",
        "\\end{align*}$\n",
        "\n",
        "Marginalized kernels is defined as \n",
        "$$\\begin{align*}\n",
        "K(G_1,G_2) &= \\sum_{(h_1,h_2) \\in V_{1}^{*} \\times V_{2}^{*}} p_{1}(h_1) p_{2}(h_2) K_{L}(l(h_1),l(h_2))\n",
        "\\end{align*}$$\n",
        "\n",
        "where $p_1 $ and $p_2$ are probability distributions on $V_{1}^{*}$ and $V_{2}^{*}$ and the function $K_{L} : A^{*} \\times A^{*} \\rightarrow \\mathbb{R}$ is kernel on label sequence\n",
        "\n",
        "\n",
        "Graph Kernel Computation:\n",
        "\n",
        "While the kernel definition involves a summation over an infinite number of paths it can computed efficiently using product graphs and matrix inversions as briefly discussed below. Given two labeled graphs $G_1 = (V,E)$ and $G_2 = (V,E)$ the product graph is defined as  $l(v_1) = l(v_2)$ and $l((u_1,u))$. Let us now define functional on set of paths. \n",
        "\n",
        "$\\begin{align} \n",
        "\\pi((u_1,v_1) , (u_2,v_2),\\dots, (u_n,v_n)) &= \\pi_{s}(u_1,v_1) \\prod_{i=2}^n \\pi_{t}((u_i,v_i) | (u_{i-1},v_{i-1}))\n",
        "\\end{align}$\n",
        "\n",
        "with \n",
        "\n",
        "$\\begin{align}\n",
        "  \\pi_{s}(u_1,u_2) &= p_{s}^{(1)}(u_1) p_{s}^{(2)}(u_2)\\\\\n",
        "  \\pi_{t}((v_1,v_2) | (u_1,u_2)) &= p_{t}^{1}(v_1|u_1) p_{t}^{2}(v_2|u_2)\n",
        "\\end{align}$\n",
        "\n",
        "where $p_{s}^{1}$ and $p_{t}^{1}$ (and resp $p_{s}^{2}$ and $p_{t}^{2}$) are functions used to define the probabilities of random path in $(2)$ on the graph $G_1$ (resp $G_2$) It can then be shown that \n",
        "\n",
        "$\\begin{align}\n",
        "K(G_1,G_2) &= \\sum_{h \\in H(\\mathcal{G})} \\pi(h)\n",
        "\\end{align}$\n",
        "\n",
        "If one defines the $|\\mathcal{V}|$-dimensional vectorc and $|\\mathcal{V}| \\times |\\mathcal{V}|$ transistion matrix $\\prod_{t} = (\\pi_{t}(v|u))_{(u,v) \\in \\mathcal{V}^2}$ then it can checked that \n",
        "\n",
        "$$\\sum_{h \\in H(\\mathcal{G}),|h|=n} \\pi(h)= \\pi_{s} \\Pi_{t}^n \\text{1}$$\n",
        "\n",
        "where $\\textbf{1}$ is the $|\\mathcal{V}|$ dimensional vector with all entries all equal to $1$\n",
        "\n",
        "$$K(G_1,G_2) = \\sum_{n=1}^{\\infty} \\sum_{h \\in H(\\mathcal{G}),|h|=n} \\pi(h) = \\pi_{s}^{T} (I-\\pi_{t})^{-1} \\textbf{1}$$"
      ]
    }
  ]
}