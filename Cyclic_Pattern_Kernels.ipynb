{
  "nbformat": 4,
  "nbformat_minor": 0,
  "metadata": {
    "colab": {
      "name": "Cyclic Pattern Kernels.ipynb",
      "provenance": []
    },
    "kernelspec": {
      "name": "python3",
      "display_name": "Python 3"
    }
  },
  "cells": [
    {
      "cell_type": "markdown",
      "metadata": {
        "id": "EnOMuGbUChnw"
      },
      "source": [
        "# **Cyclic Pattern Kernels**\n",
        "\n",
        "cyclic pattern kernels are proposed in the paper [cyclic pattern kernels for  predictive graph mining](http://citeseerx.ist.psu.edu/viewdoc/download?doi=10.1.1.332.6158&rep=rep1&type=pdf) \n",
        "\n",
        "\n",
        "\n",
        "$\\begin{align*}\n",
        "V &:= \\text{finite set of vertices}  \\\\\n",
        "E &:= \\text{set of edges}\\\\\n",
        "\\Sigma &:= \\text{finite linearly orrderd set of labels} \\\\\n",
        "\\lambda &:= \\text{label function } \\lambda : V \\cup E \\rightarrow \\Sigma\\\\\n",
        "\\end{align*}$\n",
        "\n",
        "\n",
        "isomorphism of labeled graphs \n",
        "\n",
        "Let $G_1$ and $G_2$ be the graphs $(V_1,E_1,\\Sigma,\\lambda_1)$ and $(V_2,E_2,\\Sigma,\\lambda_2)$ respectively. $G_1$ and $G_2$ are isomorphic if there is a bijectiion $\\phi : V_{1} \\rightarrow V_2$ s.t \n",
        "\n",
        "\n",
        "\n",
        "1.   $\\{uu,v\\} \\in E_1$ iff $\\{\\phi(u) , \\phi(v) \\} \\in E_2$\n",
        "2.   $\\lambda_{1}(u) = \\lambda_{2}(\\phi(u))$\n",
        "3.   $\\lambda_{1}(\\{u,v \\}) = \\lambda_{2}(\\{\\phi(u) , \\phi(v) \\})$\n",
        "\n",
        "\n",
        "\n",
        "we start by defining the set of cyclic patterns induced by the set of simple cycles of graph. Let $G = (V,E,\\Sigma , \\lambda)$ be a graph and \n",
        "\n",
        "$$C = \\{ v_{0},v_1 \\} , \\{v_1,v_2 \\} , \\dots, \\{v_{k-1}  v_{0} \\}$$ be a sequence of edges that forms a simple cycle in $G$. The canonical representation of $C$ is the lexicographically smallest string $\\pi(C) \\in \\Sigma^{*}$ among the strings obtained by concatenating hte labels along the vertices and edges of the cyclic permuatations of $C$ and its reverse. more precesely, denoting by $\\rho(s)$ the set of cyclic permutation of a sequence $s$ and its reverse, we define the $\\pi(C)$ by \n",
        "\n",
        "$$\\pi(C) =  \\min\\{ \\sigma(w) : w \\in \\rho(v_0v_1 \\dots v_{k-1})  \\}$$\n",
        "\n",
        "where for $w = w_{0}w_{1} \\dots w_{k-}$\n",
        "\n",
        "$$\\sigma(w) = \\lambda(w_{0}) \\lambda(\\{w_{0} , w_{1} \\}) \\lambda(w_1) \\dots \\lambda(w_{k-1}) \\lambda(\\{ w_{k-1} , w_{0} \\})$$\n",
        "\n",
        "clearly $\\pi$ is unique up to isomorphism and hence it indeed provied a canonical string representation of simple cycles. The set of $cyclic patterns$ of a graph $G$ denoted by $\\mathcal{C}(G)$ is then defined by \n",
        "\n",
        "$$\\mathcal{C}(G) = \\{\\pi(C) : C \\in \\mathcal{S}(G) \\}$$\n",
        "\n",
        "(we recall that $\\mathcal{S}(G)$ denotes the set of simple cycles of $G$)\n",
        "\n",
        "We are now ready to define cyclic patterns kernels for graphs. In the definition below, we assume without loss of generality that $\\mathcal{C}(G)$ and $\\mathcal{T}(G)$\n",
        "\n",
        "\n"
      ]
    }
  ]
}