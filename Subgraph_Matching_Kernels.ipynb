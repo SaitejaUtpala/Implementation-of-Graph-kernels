{
  "nbformat": 4,
  "nbformat_minor": 0,
  "metadata": {
    "colab": {
      "name": "Subgraph Matching Kernels.ipynb",
      "provenance": [],
      "collapsed_sections": []
    },
    "kernelspec": {
      "name": "python3",
      "display_name": "Python 3"
    },
    "language_info": {
      "name": "python"
    }
  },
  "cells": [
    {
      "cell_type": "markdown",
      "metadata": {
        "id": "6WlrL8vm_2HQ"
      },
      "source": [
        "$\\begin{align*}\n",
        "(V,E) &:   \\text{ undirected graph G} \\\\\n",
        "V(G) &:  \\text{set of vertices of graph G}\\\\ \n",
        "E(G) &:  \\text{set of edges of graph G} \\\\\n",
        "N(v) &: \\{u \\in V : (u,v) \\in E\\} \\\\\n",
        "\\mathcal{L} &: \\text{label set} \\\\\n",
        "\\ell &: \\text{Labelling function} \\\\\n",
        "(V,E,\\ell) &: \\text{labeled or attributed graph} \\\\   \n",
        "\\varphi &: \\text{Graph Isomorphism between labeled graphs}\\\\\n",
        "\\psi_{\\varphi} &:  \\text{vertex paris implicated by the bijection } \\psi_{\\varphi}: V_{1} \\times V_{1} \\rightarrow V_{2} \\times V_{2} , \\psi_{\\varphi}((u,v)) = (\\varphi(u), \\varphi(v)) \\\\\n",
        "G_1 \\approx G_2 &: \\text{Isomporpsim} \\\\\n",
        "\\text{Aut}(G) &: \\text{isomorphism onto itself} \\\\\n",
        "\\varphi &: \\text{common subgraph isomorphism (CSI)}\\\\\n",
        "k_{\\text{cal}}(G_1,G_2) &: \\text{common subgraph isomorphism (CSI) kernel}\\\\\n",
        "k_{\\text{sm}}(G_1,G_2)  &: \\text{Subgraph Matching Kernel}\n",
        "\\end{align*}$\n",
        "\n",
        "$\\textbf{Theorem 1}$: The subgraph matching kernel is p.s.d\n",
        "\n",
        "The structure of a graph $G = (V,E)$ with $n$ vertices can be encoded by tuple $(v,\\textbf{e})$ where $v = (v_{i})_{n}$ is a sequence of vertices in $V$ and $\\textbf{e} = [e_{i,j}]_{n \\times n}$ is a matrix of elements $E \\cup \\{e\\}$, s.t $e_{i,j} = (v_i,v_j)$ if $(v_i,v_j) \\in E$ and $\\epsilon$ otherwise. By extending $v$ and $\\textbf{e}$ by additional  $\\epsilon$-elements we can encode graphs of different size into the same space.  Each permutation of the vertices of a graph yields a valid encoding and a graph can be decomposed into all its encodings. This allows us to define a graph kernel by specifying an R-convolution. let $\\text{R}(v,e,G)$ be relation, where $v$ and $\\textbf{}$\n",
        "\n",
        "we can identify Def.2 as a speical case of Def.3 where \n",
        "\n",
        "\\textbf{Kernel Computation}\n",
        "\n"
      ]
    },
    {
      "cell_type": "code",
      "metadata": {
        "colab": {
          "base_uri": "https://localhost:8080/"
        },
        "id": "PZv23u5-RvEe",
        "outputId": "c94aa6f8-ec53-469d-fba6-48b88f93c546"
      },
      "source": [
        "#install python-igraph : we use IGraph for manipulating and storing graph data\n",
        "#install cairocffi : needed for ploting for python-igraph\n",
        "\n",
        "!pip install python-igraph\n",
        "!pip install cairocffi"
      ],
      "execution_count": null,
      "outputs": [
        {
          "output_type": "stream",
          "text": [
            "Collecting python-igraph\n",
            "\u001b[?25l  Downloading https://files.pythonhosted.org/packages/ae/12/1fbdb491d89fad8abb7aca0189978655cfdc984a380b846478f2ccdfdad8/python_igraph-0.9.1-cp37-cp37m-manylinux2010_x86_64.whl (3.2MB)\n",
            "\u001b[K     |████████████████████████████████| 3.2MB 7.0MB/s \n",
            "\u001b[?25hCollecting texttable>=1.6.2\n",
            "  Downloading https://files.pythonhosted.org/packages/06/f5/46201c428aebe0eecfa83df66bf3e6caa29659dbac5a56ddfd83cae0d4a4/texttable-1.6.3-py2.py3-none-any.whl\n",
            "Installing collected packages: texttable, python-igraph\n",
            "Successfully installed python-igraph-0.9.1 texttable-1.6.3\n",
            "Collecting cairocffi\n",
            "\u001b[?25l  Downloading https://files.pythonhosted.org/packages/84/ca/0bffed5116d21251469df200448667e90acaa5131edea869b44a3fbc73d0/cairocffi-1.2.0.tar.gz (70kB)\n",
            "\u001b[K     |████████████████████████████████| 71kB 3.9MB/s \n",
            "\u001b[?25hRequirement already satisfied: cffi>=1.1.0 in /usr/local/lib/python3.7/dist-packages (from cairocffi) (1.14.5)\n",
            "Requirement already satisfied: pycparser in /usr/local/lib/python3.7/dist-packages (from cffi>=1.1.0->cairocffi) (2.20)\n",
            "Building wheels for collected packages: cairocffi\n",
            "  Building wheel for cairocffi (setup.py) ... \u001b[?25l\u001b[?25hdone\n",
            "  Created wheel for cairocffi: filename=cairocffi-1.2.0-cp37-none-any.whl size=89548 sha256=3717c8884044cd8428cb7dc50ea4f88fc37986d415c701c8d32f06d387278e14\n",
            "  Stored in directory: /root/.cache/pip/wheels/40/76/48/f1effadceea83b32e7d957dd0f92db4db8b537d7b72b4ef374\n",
            "Successfully built cairocffi\n",
            "Installing collected packages: cairocffi\n",
            "Successfully installed cairocffi-1.2.0\n"
          ],
          "name": "stdout"
        }
      ]
    },
    {
      "cell_type": "code",
      "metadata": {
        "id": "bTG6Y7C1RlDV"
      },
      "source": [
        "import os\n",
        "import platform\n",
        "import numpy as np\n",
        "import igraph as ig\n",
        "from tqdm import tqdm\n",
        "from sklearn.svm import SVC\n",
        "import multiprocessing as mp\n",
        "from numpy import linalg as LA\n",
        "from collections import Counter\n",
        "from sklearn.metrics import accuracy_score\n",
        "from sklearn.model_selection import StratifiedKFold\n",
        "from IPython.core.display import display, Image\n",
        "from itertools import combinations,combinations_with_replacement"
      ],
      "execution_count": null,
      "outputs": []
    },
    {
      "cell_type": "code",
      "metadata": {
        "colab": {
          "base_uri": "https://localhost:8080/"
        },
        "id": "GAKRRfLjRoWY",
        "outputId": "254d0c95-b870-4e9b-cb4c-d5dbde4a75f5"
      },
      "source": [
        "print(\"Python Version: \", platform.python_version())\n",
        "print(\"Number of processors: \", mp.cpu_count())"
      ],
      "execution_count": null,
      "outputs": [
        {
          "output_type": "stream",
          "text": [
            "Python Version:  3.7.10\n",
            "Number of processors:  2\n"
          ],
          "name": "stdout"
        }
      ]
    },
    {
      "cell_type": "code",
      "metadata": {
        "colab": {
          "base_uri": "https://localhost:8080/"
        },
        "id": "aEVZQCT3Rqq1",
        "outputId": "8dd7d8f7-a44f-4711-ef35-3f2fa748ece4"
      },
      "source": [
        "\n",
        "from google.colab import drive\n",
        "drive.mount('/content/drive')\n",
        "path = 'data/graph_data'"
      ],
      "execution_count": null,
      "outputs": [
        {
          "output_type": "stream",
          "text": [
            "Mounted at /content/drive\n"
          ],
          "name": "stdout"
        }
      ]
    },
    {
      "cell_type": "code",
      "metadata": {
        "id": "jEZsNeejZkgx"
      },
      "source": [
        "#retreving the file names\n",
        "\n",
        "def get_data(path):\n",
        "  graph_files = []\n",
        "  for file in os.listdir(path):\n",
        "    if file.endswith('gml'):\n",
        "        graph_files.append(os.path.join(path,file))\n",
        "  graph_files.sort()\n",
        "  return graph_files\n",
        "  "
      ],
      "execution_count": null,
      "outputs": []
    },
    {
      "cell_type": "code",
      "metadata": {
        "id": "pvn4KezDSNyH"
      },
      "source": [
        "# making sure that multiple igraph plots are shown in single jupyter cell\n",
        "\n",
        "def plot(G,id,plt_dims=(200,200)):\n",
        "  print(\"Graph \"+id,end= \"\\n\\n\")\n",
        "  ig.plot(G,bbox = plt_dims).save('temporary.png') \n",
        "  display(Image(filename='temporary.png'))\n",
        "  os.remove('temporary.png')"
      ],
      "execution_count": null,
      "outputs": []
    },
    {
      "cell_type": "code",
      "metadata": {
        "colab": {
          "base_uri": "https://localhost:8080/",
          "height": 487
        },
        "id": "_zAHmI-BSQfT",
        "outputId": "0c9f1665-7bd1-4d28-a8d6-f5a41e10cdb9"
      },
      "source": [
        "#sample graph visualization\n",
        "\n",
        "mutang_path = '/content/drive/MyDrive/data/graph_data/MUTAG'\n",
        "graph_files = get_data(path)\n",
        "G0 = ig.read(graph_files[1])\n",
        "G1 = ig.read(graph_files[2])\n",
        "plot(G0,\"G1\")\n",
        "plot(G1,\"G2\")"
      ],
      "execution_count": null,
      "outputs": [
        {
          "output_type": "stream",
          "text": [
            "Graph G1\n",
            "\n"
          ],
          "name": "stdout"
        },
        {
          "output_type": "display_data",
          "data": {
            "image/png": "[encoded data removed]",
            "text/plain": [
              "<IPython.core.display.Image object>"
            ]
          },
          "metadata": {
            "tags": []
          }
        },
        {
          "output_type": "stream",
          "text": [
            "Graph G2\n",
            "\n"
          ],
          "name": "stdout"
        },
        {
          "output_type": "display_data",
          "data": {
            "image/png": "[encoded data removed]",
            "text/plain": [
              "<IPython.core.display.Image object>"
            ]
          },
          "metadata": {
            "tags": []
          }
        }
      ]
    },
    {
      "cell_type": "code",
      "metadata": {
        "id": "4UYcrUIeSU7d"
      },
      "source": [
        "#read all .gml files as Igraph objects\n",
        "\n",
        "def get_Gs(path):\n",
        "  graph_files = get_data(path)\n",
        "  Gs = []\n",
        "  for graph_file in tqdm(graph_files):\n",
        "    g = ig.read(graph_file)\n",
        "    Gs.append(g)\n",
        "  return Gs  \n",
        "\n"
      ],
      "execution_count": null,
      "outputs": []
    },
    {
      "cell_type": "code",
      "metadata": {
        "id": "vHEiSH6qSomq"
      },
      "source": [
        "#scan through all graphs and find total number of unique labels\n",
        "\n",
        "def get_sizeof_L(graphs):\n",
        "  \"\"\"\n",
        "  Parameters \n",
        "  graphs : list of Igraph objects\n",
        "  Returns \n",
        "  sizeof_L : int \n",
        "  \"\"\"\n",
        "\n",
        "  n_Gs = len(graphs)\n",
        "  G_node_labels = list()\n",
        "  for g in graphs:\n",
        "    g_node_labels = g.vs['label']\n",
        "    G_node_labels.extend(g_node_labels)\n",
        "  sizeof_L = len(set(G_node_labels))\n",
        "  return sizeof_L  \n",
        "\n"
      ],
      "execution_count": null,
      "outputs": []
    },
    {
      "cell_type": "code",
      "metadata": {
        "colab": {
          "base_uri": "https://localhost:8080/"
        },
        "id": "0S-gKhwuSrG1",
        "outputId": "ed1f2f63-d467-4c92-f8b2-ab42d6ebafb3"
      },
      "source": [
        "mutang_path = '/content/drive/MyDrive/data/graph_data/MUTAG'\n",
        "Gs = get_Gs(mutang_path)\n",
        "sizeof_L = get_sizeof_L(Gs)\n",
        "print(\" Number of unique labels : \",sizeof_L)"
      ],
      "execution_count": null,
      "outputs": [
        {
          "output_type": "stream",
          "text": [
            "100%|██████████| 188/188 [01:02<00:00,  3.02it/s]"
          ],
          "name": "stderr"
        },
        {
          "output_type": "stream",
          "text": [
            " Number of unique labels :  7\n"
          ],
          "name": "stdout"
        },
        {
          "output_type": "stream",
          "text": [
            "\n"
          ],
          "name": "stderr"
        }
      ]
    },
    {
      "cell_type": "code",
      "metadata": {
        "id": "Kr4pG5q9StKu"
      },
      "source": [
        "def modular_product_graph(g1,g2):\n",
        "\n",
        "  product_graph = ig.Graph()\n",
        "  for v1 in g1.vs:\n",
        "    for v2 in g2.vs:\n",
        "      if v1['label'] == v2['label']:\n",
        "        product_graph.add_vertex(id=(v1['id'],v2['id']), label=v1['label'],pair=(v1,v2) )\n",
        "\n",
        "  N_gs = product_graph.vcount()\n",
        "  print(\"number of vertices in the product graph\", N_gs)\n",
        "  for i,j in tqdm(combinations_with_replacement(range(N_gs),2)):\n",
        "    pg_v1 = product_graph.vs[i]\n",
        "    pg_v2 = product_graph.vs[j]\n",
        "\n",
        "    u1 = product_graph.vs[i]['pair'][0]\n",
        "    v1 = product_graph.vs[j]['pair'][0]\n",
        "    u2 = product_graph.vs[i]['pair'][1]\n",
        "    v2 = product_graph.vs[j]['pair'][1]\n",
        "\n",
        "    #check for different edges\n",
        "\n",
        "    if (u1 != v1 and u2 != v2):\n",
        "      edge1 = g1.get_eid(u1, u2, directed=False, error=False)\n",
        "      edge2  = g2.get_eid(v1, v2, directed=False, error=False)\n",
        "      if (edge1 != -1 and edge2 != -1):\n",
        "        if (edge1['weight'] == edge2['weight']):\n",
        "          product_graph.add_edge(i,j, weight=edge1['weight'])\n",
        "      else if (edge1 == -1 and edge2 == -1):\n",
        "        product_graph.add_edge(i,j, weight=edge1['weight'])\n",
        "\n",
        "\n",
        "    return product_graph    \n",
        "\n"
      ],
      "execution_count": null,
      "outputs": []
    },
    {
      "cell_type": "code",
      "metadata": {
        "colab": {
          "base_uri": "https://localhost:8080/",
          "height": 404
        },
        "id": "ndW_PiuJcwIy",
        "outputId": "35edc39b-cac2-4da0-bbed-879043de8229"
      },
      "source": [
        "product_graph = ig.Graph()\n",
        "for v1 in G0.vs:\n",
        "  for v2 in G1.vs:\n",
        "    if v1['label'] == v2['label']:\n",
        "      product_graph.add_vertex(id=(v1['id'],v2['id']), label=v1['label'],pair=(v1,v2) )\n",
        "\n",
        "\n",
        "N_gs = product_graph.vcount()\n",
        "print(\"number of verts\" , N_gs)\n",
        "count = 0\n",
        "for i,j in tqdm(combinations(range(N_gs),2)):\n",
        "  pg_v1 = product_graph.vs[i]\n",
        "  pg_v2 = product_graph.vs[j]\n",
        "\n",
        "  u1 = product_graph.vs[i]['pair'][0]\n",
        "  v1 = product_graph.vs[j]['pair'][0]\n",
        "\n",
        "  u2 = product_graph.vs[i]['pair'][1]\n",
        "  v2 = product_graph.vs[j]['pair'][1]\n",
        "\n",
        "  #check for different edges\n",
        "\n",
        "  if (u1 != v1 and u2 != v2):\n",
        "    edge1 = G0.get_eid(u1, u2, directed=False, error=False)\n",
        "    edge2  = G1.get_eid(v1, v2, directed=False, error=False)\n",
        "   \n",
        "    if (edge1 != -1 and edge2 != -1):\n",
        "      e1 = G0.es[edge1]\n",
        "      e2 = G1.es[edge2]\n",
        "      \n",
        "      if (e1['weight'] == e2['weight']):\n",
        "        product_graph.add_edge(i,j)\n",
        "    elif (edge1 == -1 and edge2 == -1):\n",
        "      product_graph.add_edge(i,j)\n",
        "\n",
        "\n",
        "plot(product_graph,\"product\",plt_dims=(300,300))\n",
        "print(\"edge count\", product_graph.ecount())"
      ],
      "execution_count": null,
      "outputs": [
        {
          "output_type": "stream",
          "text": [
            "3916it [00:00, 33060.58it/s]"
          ],
          "name": "stderr"
        },
        {
          "output_type": "stream",
          "text": [
            "number of verts 89\n",
            "Graph product\n",
            "\n"
          ],
          "name": "stdout"
        },
        {
          "output_type": "stream",
          "text": [
            "\n"
          ],
          "name": "stderr"
        },
        {
          "output_type": "display_data",
          "data": {
            "image/png": "[encoded data removed]",
            "text/plain": [
              "<IPython.core.display.Image object>"
            ]
          },
          "metadata": {
            "tags": []
          }
        },
        {
          "output_type": "stream",
          "text": [
            "edge count 2154\n"
          ],
          "name": "stdout"
        }
      ]
    }
  ]
}