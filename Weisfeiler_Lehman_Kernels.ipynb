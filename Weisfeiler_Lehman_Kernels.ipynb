{
  "nbformat": 4,
  "nbformat_minor": 0,
  "metadata": {
    "colab": {
      "name": "Weisfeiler Lehman Kernels.ipynb",
      "provenance": [],
      "collapsed_sections": []
    },
    "kernelspec": {
      "name": "python3",
      "display_name": "Python 3"
    }
  },
  "cells": [
    {
      "cell_type": "markdown",
      "metadata": {
        "id": "-XtYogD9YwYy"
      },
      "source": [
        "# **Weisfeiler-Lehman Kernels**\r\n",
        "\r\n",
        "Weisfeiler-Lehman Kernels are proposed in the paper [Weisfeiler Lehman Graph Kernels](https://www.jmlr.org/papers/volume12/shervashidze11a/shervashidze11a.pdf). Following note book has four sections\r\n",
        "\r\n",
        "\r\n",
        "\r\n",
        "1.   Loading Graph Dataset \r\n",
        "2.   Weisfeiler-Lehman test for Isomorphism\r\n",
        "3.   key insight: Weisfeiler-Lehman Kernel Framework\r\n",
        "\r\n",
        "      *   Weisfeiler-Lehman Subtree Kernel \r\n",
        "      *   Weisfeiler-Lehman Edge Kernel\r\n",
        "      *   Weisfeiler-Lehman Shortest Path Kernel\r\n",
        "            "
      ]
    },
    {
      "cell_type": "code",
      "metadata": {
        "id": "6mnEE3kZZ9_x",
        "colab": {
          "base_uri": "https://localhost:8080/"
        },
        "outputId": "a2fb32c1-8011-4de5-d625-c16c18833499"
      },
      "source": [
        "#install python-igraph : we use IGraph for manipulating and storing graph data\r\n",
        "\r\n",
        "!pip install python-igraph\r\n",
        "!pip install cairocffi"
      ],
      "execution_count": null,
      "outputs": [
        {
          "output_type": "stream",
          "text": [
            "Requirement already satisfied: python-igraph in /usr/local/lib/python3.7/dist-packages (0.9.0)\n",
            "Requirement already satisfied: texttable>=1.6.2 in /usr/local/lib/python3.7/dist-packages (from python-igraph) (1.6.3)\n",
            "Requirement already satisfied: cairocffi in /usr/local/lib/python3.7/dist-packages (1.2.0)\n",
            "Requirement already satisfied: cffi>=1.1.0 in /usr/local/lib/python3.7/dist-packages (from cairocffi) (1.14.5)\n",
            "Requirement already satisfied: pycparser in /usr/local/lib/python3.7/dist-packages (from cffi>=1.1.0->cairocffi) (2.20)\n"
          ],
          "name": "stdout"
        }
      ]
    },
    {
      "cell_type": "code",
      "metadata": {
        "id": "8Cr-s1B6Vuou"
      },
      "source": [
        "import os\r\n",
        "import igraph as ig"
      ],
      "execution_count": null,
      "outputs": []
    },
    {
      "cell_type": "code",
      "metadata": {
        "id": "l6QlHWveBr6W",
        "colab": {
          "base_uri": "https://localhost:8080/"
        },
        "outputId": "0b468dd5-d59b-4902-c3b7-a301459073a5"
      },
      "source": [
        "#mounting the data  on drive \r\n",
        "\r\n",
        "from google.colab import drive\r\n",
        "drive.mount('/content/drive')\r\n",
        "path = 'data/graph_data'"
      ],
      "execution_count": null,
      "outputs": [
        {
          "output_type": "stream",
          "text": [
            "Mounted at /content/drive\n"
          ],
          "name": "stdout"
        }
      ]
    },
    {
      "cell_type": "code",
      "metadata": {
        "id": "L644Jwd0V4nc"
      },
      "source": [
        "#retreving the file names\r\n",
        "def get_data(path):\r\n",
        "  graph_files = []\r\n",
        "  for file in os.listdir(path):\r\n",
        "    if file.endswith('gml'):\r\n",
        "        graph_files.append(os.path.join(path,file))\r\n",
        "  graph_files.sort()\r\n",
        "  return graph_files\r\n",
        "  "
      ],
      "execution_count": null,
      "outputs": []
    },
    {
      "cell_type": "code",
      "metadata": {
        "id": "4DamS2IAl_0i"
      },
      "source": [
        "def read_gml(filename):\r\n",
        "  node_features = []\r\n",
        "  g = ig.read(filename)\r\n",
        "  if not 'label' in g.vs.attribute_names():\r\n",
        "    g.vs['label'] = list(map(str,[l for l in g.vs.degree()]))\r\n",
        "  node_features = g.vs['label']\r\n",
        "  adj_mat  = np.asarray(g.get_adjacency().data)  \r\n",
        "  return node_features,adj_mat"
      ],
      "execution_count": null,
      "outputs": []
    },
    {
      "cell_type": "code",
      "metadata": {
        "colab": {
          "base_uri": "https://localhost:8080/",
          "height": 487
        },
        "id": "trDDTjV3avNj",
        "outputId": "2f458463-e959-4350-9377-694cc8d4952a"
      },
      "source": [
        "#sample graph\r\n",
        "from IPython.core.display import display, SVG\r\n",
        "\r\n",
        "path = '/content/drive/MyDrive/data/graph_data/MUTAG'\r\n",
        "graph_files = get_data(path)\r\n",
        "G0 = ig.read(graph_files[1])\r\n",
        "G1 = ig.read(graph_files[2])\r\n",
        "print(\"Graph G1\",end= \"\\n\\n\")\r\n",
        "ig.plot(G0,bbox = (200, 200)).save('temporary.png') \r\n",
        "display(Image(filename='temporary.png'))\r\n",
        "os.remove('temporary.png')\r\n",
        "print(\"Graph G2\",end=\"\\n\\n\")\r\n",
        "ig.plot(G1,bbox = (200, 200)).save('temporary.png')\r\n",
        "display(Image(filename='temporary.png'))\r\n",
        "os.remove('temporary.png')"
      ],
      "execution_count": null,
      "outputs": [
        {
          "output_type": "stream",
          "text": [
            "Graph G1\n",
            "\n"
          ],
          "name": "stdout"
        },
        {
          "output_type": "display_data",
          "data": {
            "image/png": "[encoded data removed]",
            "text/plain": [
              "<IPython.core.display.Image object>"
            ]
          },
          "metadata": {
            "tags": []
          }
        },
        {
          "output_type": "stream",
          "text": [
            "Graph G2\n",
            "\n"
          ],
          "name": "stdout"
        },
        {
          "output_type": "display_data",
          "data": {
            "image/png": "[encoded data removed]",
            "text/plain": [
              "<IPython.core.display.Image object>"
            ]
          },
          "metadata": {
            "tags": []
          }
        }
      ]
    },
    {
      "cell_type": "markdown",
      "metadata": {
        "id": "rvHT3fe6v-M7"
      },
      "source": [
        "## Checking for Isomoprhism of Graphs using 1D WL test "
      ]
    },
    {
      "cell_type": "code",
      "metadata": {
        "id": "xUXPQB5f43MW"
      },
      "source": [
        "#does label compression \n",
        "def f(dict_labels,unique):\n",
        "\n",
        "\n",
        "  new_labels = {}\n",
        "  for s_v in unique_labels:\n",
        "\n",
        "    if s_v in dict_labels.keys():\n",
        "      new_labels.update({ s_v : dict_labels[s_v] })\n",
        "\n",
        "    else :\n",
        "      new_label  = str(len(dict_labels)+1)\n",
        "      new_labels.update({ s_v  : new_label })    \n",
        "      dict_labels.update({ s_v : new_label })\n",
        "\n",
        "  return new_labels\n",
        "\n"
      ],
      "execution_count": null,
      "outputs": []
    },
    {
      "cell_type": "code",
      "metadata": {
        "id": "ZICf3694xlUT"
      },
      "source": [
        "#does one iteration of WL test for Isomorphism \n",
        "def update_compressed_code(G,dict_global_labels):\n",
        "\n",
        "  '''\n",
        "      Parameters \n",
        "      G : Ipython Graph \n",
        "      global_labels : dictionary containing \n",
        "\n",
        "      Returns \n",
        "\n",
        "  '''\n",
        "\n",
        "  \n",
        "  multiset_g = list()\n",
        "  for v in G.vs:\n",
        "\n",
        "    multiset_v = list()\n",
        "    #multiset-label determination\n",
        "    for neigh in G.neighbors(v):\n",
        "      multiset_v.append(G.vs[neigh]['label'])\n",
        "\n",
        "    #sorting each multiset  \n",
        "    multiset_v.sort() \n",
        "    multiset_v.insert(0,v['label'])\n",
        "    multiset_g.append(multiset_v) \n",
        "\n",
        "\n",
        "  #getting unique multiset labels\n",
        "  unique_multiset_g = list(set(map(tuple,multiset_g)))  #lists are not hashable so convert into tuples\n",
        "\n",
        "\n",
        "  #label-compression and relabeling\n",
        "  new_labels = f(dict_labels,unique_multiset_g)\n",
        "  for v in G.vs:\n",
        "    v['label'] = new_labels[v['labels']]\n",
        "\n",
        "\n"
      ],
      "execution_count": null,
      "outputs": []
    },
    {
      "cell_type": "code",
      "metadata": {
        "id": "U8MUrtgbYpAc"
      },
      "source": [
        "#1d version of weisfeiler-lehman test for isomorphism \n",
        "def weisfeiler_lehman_test(G1,G2):\n",
        "\n",
        "  '''\n",
        "    Parameters \n",
        "      Gs : list of graphs\n",
        "\n",
        "    Returns\n",
        "      false  :  If G1,G2 are not isomorphic \n",
        "      None   :  inconclusive , G1,G2 could be isomophic or not  \n",
        "  '''\n",
        "\n",
        "\n",
        "\n",
        "  nv = G1.vcount()\n",
        "\n",
        "  for i in range(nv):\n",
        "    global_unique_dict = {}  #unique dict is used for each iteration\n",
        "    update_compressed_code(G1,global_unique_dict)\n",
        "    update_compressed_code(G2,global_unique_dict)\n",
        "\n",
        "\n",
        "\n",
        "\n",
        "  for G in Gs:\n",
        "    update_compressed_code(G)\n",
        "\n",
        "  if (nv1 != nv2):\n",
        "    return False\n",
        "\n",
        "  for i in range(nv1):\n",
        "    compressed_code1 = update_compressed_code(G1)   \n",
        "    compressed_code2 = update_compressed_code(G2)\n",
        "\n",
        "    if(compressed_code1 != compressed_code2):  return False\n",
        "\n",
        "  return None"
      ],
      "execution_count": null,
      "outputs": []
    },
    {
      "cell_type": "markdown",
      "metadata": {
        "id": "bA5Enr3sBHG8"
      },
      "source": [
        "Example for testing isomorphism of graphs "
      ]
    },
    {
      "cell_type": "code",
      "metadata": {
        "id": "SwkZwmJMY6jZ"
      },
      "source": [
        "#weisfeiler lehman subtree kernel\n",
        "def weisfeiler_lehman_subtree_kernel():\n"
      ],
      "execution_count": null,
      "outputs": []
    },
    {
      "cell_type": "code",
      "metadata": {
        "id": "Pnww3wpaOyRf"
      },
      "source": [
        "\n",
        "def weisfeiler_lehman_edge_kernel():\n"
      ],
      "execution_count": null,
      "outputs": []
    }
  ]
}