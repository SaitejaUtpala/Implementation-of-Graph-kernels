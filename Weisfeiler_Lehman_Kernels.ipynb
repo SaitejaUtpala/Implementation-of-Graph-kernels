{
  "nbformat": 4,
  "nbformat_minor": 0,
  "metadata": {
    "colab": {
      "name": "Weisfeiler Lehman Kernels.ipynb",
      "provenance": [],
      "collapsed_sections": []
    },
    "kernelspec": {
      "name": "python3",
      "display_name": "Python 3"
    }
  },
  "cells": [
    {
      "cell_type": "markdown",
      "metadata": {
        "id": "-XtYogD9YwYy"
      },
      "source": [
        "#Weisfeiler-lehman Kernels "
      ]
    },
    {
      "cell_type": "code",
      "metadata": {
        "colab": {
          "base_uri": "https://localhost:8080/"
        },
        "id": "6mnEE3kZZ9_x",
        "outputId": "a787471e-4d01-4af2-88c3-8e4a006cbb36"
      },
      "source": [
        "#install python-igraph : we use IGraph for manipulating and storing graph data\r\n",
        "\r\n",
        "!pip install python-igraph"
      ],
      "execution_count": null,
      "outputs": [
        {
          "output_type": "stream",
          "text": [
            "Requirement already satisfied: python-igraph in /usr/local/lib/python3.7/dist-packages (0.9.0)\n",
            "Requirement already satisfied: texttable>=1.6.2 in /usr/local/lib/python3.7/dist-packages (from python-igraph) (1.6.3)\n"
          ],
          "name": "stdout"
        }
      ]
    },
    {
      "cell_type": "code",
      "metadata": {
        "id": "8Cr-s1B6Vuou"
      },
      "source": [
        "import os\r\n",
        "import igraph as ig"
      ],
      "execution_count": null,
      "outputs": []
    },
    {
      "cell_type": "code",
      "metadata": {
        "id": "l6QlHWveBr6W",
        "colab": {
          "base_uri": "https://localhost:8080/"
        },
        "outputId": "712e68b3-3618-41f6-8fd8-1f56ce4221d9"
      },
      "source": [
        "#mounting the data  on drive \r\n",
        "\r\n",
        "from google.colab import drive\r\n",
        "drive.mount('/content/drive')\r\n",
        "path = 'data/graph_data'"
      ],
      "execution_count": null,
      "outputs": [
        {
          "output_type": "stream",
          "text": [
            "Drive already mounted at /content/drive; to attempt to forcibly remount, call drive.mount(\"/content/drive\", force_remount=True).\n"
          ],
          "name": "stdout"
        }
      ]
    },
    {
      "cell_type": "code",
      "metadata": {
        "id": "L644Jwd0V4nc"
      },
      "source": [
        "#retreving the file names\r\n",
        "path = '/content/drive/MyDrive/data/graph_data/MUTAG'\r\n",
        "graph_files = []\r\n",
        "for file in os.listdir(path):\r\n",
        "  if file.endswith('gml'):\r\n",
        "      graph_files.append(os.path.join(path,file))\r\n",
        "graph_files.sort()"
      ],
      "execution_count": null,
      "outputs": []
    },
    {
      "cell_type": "code",
      "metadata": {
        "id": "QB7gS-fXfq7V"
      },
      "source": [
        "#plots the graph \r\n",
        "def plot_graph(G):\r\n"
      ],
      "execution_count": null,
      "outputs": []
    },
    {
      "cell_type": "code",
      "metadata": {
        "colab": {
          "base_uri": "https://localhost:8080/"
        },
        "id": "trDDTjV3avNj",
        "outputId": "ba361810-b581-48cf-c6b1-d3b5c81a135d"
      },
      "source": [
        "#sample graph\r\n",
        "G = ig.read(graph_files[0])\r\n",
        "G.vs[\"id\"]\r\n",
        "print(\"Graph : \", end = '\\n\\n')\r\n",
        "print(G)\r\n",
        "print(G.vs[\"id\"])\r\n",
        "print(G.vs[\"label\"])"
      ],
      "execution_count": null,
      "outputs": [
        {
          "output_type": "stream",
          "text": [
            "Graph : \n",
            "\n",
            "IGRAPH U-W- 17 19 --\n",
            "+ attr: id (v), label (v), weight (e)\n",
            "+ edges:\n",
            "2--3 3--4 2--5 6--7 8--9 4--11 11--12 5--12 6--12 7--13 11--14 13--14 8--14\n",
            "9--15 10--13 10--15 15--16 0--16 1--16\n",
            "[16.0, 17.0, 1.0, 2.0, 3.0, 6.0, 7.0, 8.0, 11.0, 12.0, 14.0, 4.0, 5.0, 9.0, 10.0, 13.0, 15.0]\n",
            "['2', '2', '0', '0', '0', '0', '0', '0', '0', '0', '0', '0', '0', '0', '0', '0', '1']\n"
          ],
          "name": "stdout"
        }
      ]
    },
    {
      "cell_type": "code",
      "metadata": {
        "id": "fhF7Fr7cY9Tv"
      },
      "source": [
        ""
      ],
      "execution_count": null,
      "outputs": []
    },
    {
      "cell_type": "code",
      "metadata": {
        "id": "xUXPQB5f43MW"
      },
      "source": [
        "#does label compression \n",
        "def f(graph,dict_labels,unique):\n",
        "\n",
        "\n",
        "  new_labels = {}\n",
        "  for s_v in unique_labels:\n",
        "\n",
        "    if s_v in dict_labels.keys():\n",
        "      new_labels.update({ s_v : dict_labels[s_v] })\n",
        "\n",
        "    else :\n",
        "      new_label  = str(len(dict_labels)+1)\n",
        "      new_labels.update({ s_v  : new_label })    \n",
        "      dict_labels.update({ s_v : new_label)})\n",
        "\n",
        "\n"
      ],
      "execution_count": null,
      "outputs": []
    },
    {
      "cell_type": "code",
      "metadata": {
        "id": "ZICf3694xlUT"
      },
      "source": [
        "#does one iteration of WL test for Isomorphism \n",
        "def update_compressed_code(graph G):\n",
        "\n",
        "  \n",
        "    multiset_g = list()\n",
        "    for v in G.get_vertices():\n",
        "\n",
        "      multiset_v = list()\n",
        "\n",
        "      #multiset-label determination\n",
        "      for neigh in G[v]:\n",
        "        multiset_v.append(G[neigh]['label'])\n",
        "\n",
        "      #sorting each muliset  \n",
        "      multiset_v.sort() \n",
        "      multiset_v.insert(G[v],0)\n",
        "      multiset_g.append(multiset_v)\n",
        "      \n",
        "    unique_multiset_g = list(set(tuple(multiset_g))) #lists are not hashable so convert into tuples\n",
        "\n",
        "    #label-compression\n",
        "    compressed_labels = {}\n",
        "\n",
        "\n"
      ],
      "execution_count": null,
      "outputs": []
    },
    {
      "cell_type": "code",
      "metadata": {
        "id": "U8MUrtgbYpAc"
      },
      "source": [
        "#1d version of weisfeiler-lehman test for isomorphism \n",
        "def weisfeiler_lehman_test(graph G1,graph G2):\n",
        "\n",
        "  V = G1.V\n",
        "  for i in range(V):\n",
        "\n",
        "    \n",
        "\n"
      ],
      "execution_count": null,
      "outputs": []
    },
    {
      "cell_type": "markdown",
      "metadata": {
        "id": "bA5Enr3sBHG8"
      },
      "source": [
        "Example for testing isomorphism of graphs "
      ]
    },
    {
      "cell_type": "code",
      "metadata": {
        "id": "9qxTGRqkBVvL"
      },
      "source": [
        ""
      ],
      "execution_count": null,
      "outputs": []
    },
    {
      "cell_type": "code",
      "metadata": {
        "id": "SwkZwmJMY6jZ"
      },
      "source": [
        "#weisfeiler lehman subtree kernel\n",
        "def weisfeiler_lehman_subtree_kernel():\n"
      ],
      "execution_count": null,
      "outputs": []
    },
    {
      "cell_type": "code",
      "metadata": {
        "id": "Pnww3wpaOyRf"
      },
      "source": [
        "\n",
        "def weisfeiler_lehman_edge_kernel():\n"
      ],
      "execution_count": null,
      "outputs": []
    }
  ]
}