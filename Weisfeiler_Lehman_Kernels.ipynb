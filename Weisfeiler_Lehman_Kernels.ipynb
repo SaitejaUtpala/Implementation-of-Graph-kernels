{
  "nbformat": 4,
  "nbformat_minor": 0,
  "metadata": {
    "colab": {
      "name": "Weisfeiler Lehman Kernels.ipynb",
      "provenance": [],
      "collapsed_sections": []
    },
    "kernelspec": {
      "name": "python3",
      "display_name": "Python 3"
    }
  },
  "cells": [
    {
      "cell_type": "markdown",
      "metadata": {
        "id": "-XtYogD9YwYy"
      },
      "source": [
        "#Weisfeiler-lehman Kernels "
      ]
    },
    {
      "cell_type": "code",
      "metadata": {
        "colab": {
          "base_uri": "https://localhost:8080/"
        },
        "id": "6mnEE3kZZ9_x",
        "outputId": "83d18ae0-1359-4e4b-8f30-dfd4bf39480a"
      },
      "source": [
        "#install python-igraph : we use IGraph for manipulating and storing graph data\r\n",
        "\r\n",
        "!pip install python-igraph\r\n",
        "!pip install cairocffi"
      ],
      "execution_count": null,
      "outputs": [
        {
          "output_type": "stream",
          "text": [
            "Requirement already satisfied: python-igraph in /usr/local/lib/python3.7/dist-packages (0.9.0)\n",
            "Requirement already satisfied: texttable>=1.6.2 in /usr/local/lib/python3.7/dist-packages (from python-igraph) (1.6.3)\n",
            "Requirement already satisfied: cairocffi in /usr/local/lib/python3.7/dist-packages (1.2.0)\n",
            "Requirement already satisfied: cffi>=1.1.0 in /usr/local/lib/python3.7/dist-packages (from cairocffi) (1.14.5)\n",
            "Requirement already satisfied: pycparser in /usr/local/lib/python3.7/dist-packages (from cffi>=1.1.0->cairocffi) (2.20)\n"
          ],
          "name": "stdout"
        }
      ]
    },
    {
      "cell_type": "code",
      "metadata": {
        "id": "8Cr-s1B6Vuou"
      },
      "source": [
        "import os\r\n",
        "import igraph as ig"
      ],
      "execution_count": null,
      "outputs": []
    },
    {
      "cell_type": "code",
      "metadata": {
        "id": "l6QlHWveBr6W",
        "colab": {
          "base_uri": "https://localhost:8080/"
        },
        "outputId": "6b91c884-516c-4cd7-baa0-399c1a99f448"
      },
      "source": [
        "#mounting the data  on drive \r\n",
        "\r\n",
        "from google.colab import drive\r\n",
        "drive.mount('/content/drive')\r\n",
        "path = 'data/graph_data'"
      ],
      "execution_count": null,
      "outputs": [
        {
          "output_type": "stream",
          "text": [
            "Drive already mounted at /content/drive; to attempt to forcibly remount, call drive.mount(\"/content/drive\", force_remount=True).\n"
          ],
          "name": "stdout"
        }
      ]
    },
    {
      "cell_type": "code",
      "metadata": {
        "id": "L644Jwd0V4nc"
      },
      "source": [
        "#retreving the file names\r\n",
        "def get_data():\r\n",
        "  path = '/content/drive/MyDrive/data/graph_data/MUTAG'\r\n",
        "  graph_files = []\r\n",
        "  for file in os.listdir(path):\r\n",
        "    if file.endswith('gml'):\r\n",
        "        graph_files.append(os.path.join(path,file))\r\n",
        "  graph_files.sort()\r\n",
        "  "
      ],
      "execution_count": null,
      "outputs": []
    },
    {
      "cell_type": "code",
      "metadata": {
        "id": "4DamS2IAl_0i"
      },
      "source": [
        "def read_gml(filename):\r\n",
        "  node_features = []\r\n",
        "  g = ig.read(filename)\r\n",
        "  if not 'label' in g.vs.attribute_names():\r\n",
        "    g.vs['label'] = list(map(str,[l for l in g.vs.degree()]))\r\n",
        "  node_features = g.vs['label']\r\n",
        "  adj_mat  = np.asarray(g.get_adjacency().data)  \r\n",
        "  return node_features,adj_mat"
      ],
      "execution_count": null,
      "outputs": []
    },
    {
      "cell_type": "code",
      "metadata": {
        "colab": {
          "base_uri": "https://localhost:8080/",
          "height": 943
        },
        "id": "trDDTjV3avNj",
        "outputId": "ef2c48eb-4884-431e-fdd3-eeb1136ed30b"
      },
      "source": [
        "#sample graph\r\n",
        "G = ig.read(graph_files[0])\r\n",
        "G.vs[\"id\"]\r\n",
        "print(\"Graph : \", end = '\\n\\n')\r\n",
        "print(G)\r\n",
        "ig.plot(G)"
      ],
      "execution_count": null,
      "outputs": [
        {
          "output_type": "stream",
          "text": [
            "Graph : \n",
            "\n",
            "IGRAPH U-W- 17 19 --\n",
            "+ attr: id (v), label (v), weight (e)\n",
            "+ edges:\n",
            "2--3 3--4 2--5 6--7 8--9 4--11 11--12 5--12 6--12 7--13 11--14 13--14 8--14\n",
            "9--15 10--13 10--15 15--16 0--16 1--16\n"
          ],
          "name": "stdout"
        },
        {
          "output_type": "execute_result",
          "data": {
            "text/plain": [
              "<igraph.drawing.Plot at 0x7f90a90bb410>"
            ],
            "image/svg+xml": "<?xml version=\"1.0\" encoding=\"UTF-8\"?>\n<svg xmlns=\"http://www.w3.org/2000/svg\" xmlns:xlink=\"http://www.w3.org/1999/xlink\" width=\"600pt\" height=\"600pt\" viewBox=\"0 0 600 600\" version=\"1.1\">\n<defs>\n<g>\n<symbol overflow=\"visible\" id=\"glyph0-0\">\n<path style=\"stroke:none;\" d=\"M 0.46875 0 L 0.46875 -9.328125 L 4.1875 -9.328125 L 4.1875 0 Z M 0.9375 -0.46875 L 3.71875 -0.46875 L 3.71875 -8.859375 L 0.9375 -8.859375 Z M 0.9375 -0.46875 \"/>\n</symbol>\n<symbol overflow=\"visible\" id=\"glyph0-1\">\n<path style=\"stroke:none;\" d=\"M 0.984375 0 L 0.984375 -0.796875 C 1.179688 -1.242188 1.441406 -1.648438 1.765625 -2.015625 C 2.097656 -2.390625 2.453125 -2.742188 2.828125 -3.078125 C 3.203125 -3.410156 3.578125 -3.726562 3.953125 -4.03125 C 4.328125 -4.332031 4.664062 -4.628906 4.96875 -4.921875 C 5.269531 -5.210938 5.515625 -5.507812 5.703125 -5.8125 C 5.898438 -6.113281 6 -6.4375 6 -6.78125 C 6 -7.050781 5.953125 -7.285156 5.859375 -7.484375 C 5.773438 -7.679688 5.648438 -7.84375 5.484375 -7.96875 C 5.328125 -8.101562 5.132812 -8.203125 4.90625 -8.265625 C 4.6875 -8.328125 4.441406 -8.359375 4.171875 -8.359375 C 3.929688 -8.359375 3.703125 -8.320312 3.484375 -8.25 C 3.273438 -8.1875 3.085938 -8.082031 2.921875 -7.9375 C 2.765625 -7.800781 2.632812 -7.628906 2.53125 -7.421875 C 2.4375 -7.222656 2.375 -6.992188 2.34375 -6.734375 L 1.09375 -6.84375 C 1.132812 -7.1875 1.226562 -7.507812 1.375 -7.8125 C 1.519531 -8.125 1.71875 -8.394531 1.96875 -8.625 C 2.21875 -8.851562 2.523438 -9.03125 2.890625 -9.15625 C 3.265625 -9.289062 3.691406 -9.359375 4.171875 -9.359375 C 4.648438 -9.359375 5.078125 -9.300781 5.453125 -9.1875 C 5.835938 -9.082031 6.164062 -8.925781 6.4375 -8.71875 C 6.707031 -8.507812 6.910156 -8.242188 7.046875 -7.921875 C 7.191406 -7.609375 7.265625 -7.25 7.265625 -6.84375 C 7.265625 -6.414062 7.164062 -6.019531 6.96875 -5.65625 C 6.769531 -5.289062 6.515625 -4.941406 6.203125 -4.609375 C 5.898438 -4.285156 5.5625 -3.972656 5.1875 -3.671875 C 4.8125 -3.378906 4.445312 -3.085938 4.09375 -2.796875 C 3.738281 -2.503906 3.414062 -2.210938 3.125 -1.921875 C 2.832031 -1.628906 2.613281 -1.320312 2.46875 -1 L 7.40625 -1 L 7.40625 0 Z M 0.984375 0 \"/>\n</symbol>\n<symbol overflow=\"visible\" id=\"glyph0-2\">\n<path style=\"stroke:none;\" d=\"M 7.546875 -4.609375 C 7.546875 -3.722656 7.457031 -2.976562 7.28125 -2.375 C 7.101562 -1.769531 6.863281 -1.28125 6.5625 -0.90625 C 6.257812 -0.53125 5.898438 -0.257812 5.484375 -0.09375 C 5.078125 0.0625 4.640625 0.140625 4.171875 0.140625 C 3.703125 0.140625 3.265625 0.0625 2.859375 -0.09375 C 2.453125 -0.257812 2.097656 -0.53125 1.796875 -0.90625 C 1.503906 -1.28125 1.269531 -1.769531 1.09375 -2.375 C 0.925781 -2.976562 0.84375 -3.722656 0.84375 -4.609375 C 0.84375 -5.546875 0.925781 -6.316406 1.09375 -6.921875 C 1.269531 -7.535156 1.507812 -8.019531 1.8125 -8.375 C 2.113281 -8.738281 2.46875 -8.992188 2.875 -9.140625 C 3.289062 -9.285156 3.738281 -9.359375 4.21875 -9.359375 C 4.675781 -9.359375 5.109375 -9.285156 5.515625 -9.140625 C 5.921875 -8.992188 6.269531 -8.738281 6.5625 -8.375 C 6.863281 -8.019531 7.101562 -7.535156 7.28125 -6.921875 C 7.457031 -6.316406 7.546875 -5.546875 7.546875 -4.609375 Z M 6.296875 -4.609375 C 6.296875 -5.335938 6.25 -5.941406 6.15625 -6.421875 C 6.0625 -6.910156 5.925781 -7.296875 5.75 -7.578125 C 5.570312 -7.867188 5.351562 -8.070312 5.09375 -8.1875 C 4.832031 -8.3125 4.539062 -8.375 4.21875 -8.375 C 3.875 -8.375 3.566406 -8.3125 3.296875 -8.1875 C 3.035156 -8.0625 2.8125 -7.851562 2.625 -7.5625 C 2.445312 -7.28125 2.3125 -6.898438 2.21875 -6.421875 C 2.132812 -5.941406 2.09375 -5.335938 2.09375 -4.609375 C 2.09375 -3.910156 2.140625 -3.320312 2.234375 -2.84375 C 2.328125 -2.363281 2.460938 -1.976562 2.640625 -1.6875 C 2.816406 -1.394531 3.035156 -1.1875 3.296875 -1.0625 C 3.554688 -0.9375 3.851562 -0.875 4.1875 -0.875 C 4.507812 -0.875 4.800781 -0.9375 5.0625 -1.0625 C 5.320312 -1.1875 5.539062 -1.394531 5.71875 -1.6875 C 5.90625 -1.976562 6.046875 -2.363281 6.140625 -2.84375 C 6.242188 -3.320312 6.296875 -3.910156 6.296875 -4.609375 Z M 3.390625 -3.796875 L 3.390625 -5.5 L 5 -5.5 L 5 -3.796875 Z M 3.390625 -3.796875 \"/>\n</symbol>\n<symbol overflow=\"visible\" id=\"glyph0-3\">\n<path style=\"stroke:none;\" d=\"M 1.078125 0 L 1.078125 -0.984375 L 4.078125 -0.984375 L 4.078125 -7.96875 C 3.984375 -7.789062 3.828125 -7.617188 3.609375 -7.453125 C 3.390625 -7.296875 3.140625 -7.15625 2.859375 -7.03125 C 2.578125 -6.914062 2.273438 -6.820312 1.953125 -6.75 C 1.628906 -6.675781 1.316406 -6.640625 1.015625 -6.640625 L 1.015625 -7.65625 C 1.347656 -7.65625 1.675781 -7.691406 2 -7.765625 C 2.332031 -7.847656 2.640625 -7.957031 2.921875 -8.09375 C 3.203125 -8.238281 3.453125 -8.40625 3.671875 -8.59375 C 3.890625 -8.78125 4.054688 -8.988281 4.171875 -9.21875 L 5.3125 -9.21875 L 5.3125 -0.984375 L 7.71875 -0.984375 L 7.71875 0 Z M 1.078125 0 \"/>\n</symbol>\n</g>\n</defs>\n<g id=\"surface14\">\n<rect x=\"0\" y=\"0\" width=\"600\" height=\"600\" style=\"fill:rgb(100%,100%,100%);fill-opacity:1;stroke:none;\"/>\n<path style=\"fill:none;stroke-width:1;stroke-linecap:butt;stroke-linejoin:miter;stroke:rgb(26.666667%,26.666667%,26.666667%);stroke-opacity:1;stroke-miterlimit:10;\" d=\"M 396.789062 580 L 580 538.117188 \"/>\n<path style=\"fill:none;stroke-width:1;stroke-linecap:butt;stroke-linejoin:miter;stroke:rgb(26.666667%,26.666667%,26.666667%);stroke-opacity:1;stroke-miterlimit:10;\" d=\"M 580 538.117188 L 574.03125 461.203125 \"/>\n<path style=\"fill:none;stroke-width:1;stroke-linecap:butt;stroke-linejoin:miter;stroke:rgb(26.666667%,26.666667%,26.666667%);stroke-opacity:1;stroke-miterlimit:10;\" d=\"M 396.789062 580 L 224.328125 533.664062 \"/>\n<path style=\"fill:none;stroke-width:1;stroke-linecap:butt;stroke-linejoin:miter;stroke:rgb(26.666667%,26.666667%,26.666667%);stroke-opacity:1;stroke-miterlimit:10;\" d=\"M 28.925781 414.230469 L 20 336.488281 \"/>\n<path style=\"fill:none;stroke-width:1;stroke-linecap:butt;stroke-linejoin:miter;stroke:rgb(26.666667%,26.666667%,26.666667%);stroke-opacity:1;stroke-miterlimit:10;\" d=\"M 543.398438 272.109375 L 523.6875 195.050781 \"/>\n<path style=\"fill:none;stroke-width:1;stroke-linecap:butt;stroke-linejoin:miter;stroke:rgb(26.666667%,26.666667%,26.666667%);stroke-opacity:1;stroke-miterlimit:10;\" d=\"M 574.03125 461.203125 L 406.929688 410.445312 \"/>\n<path style=\"fill:none;stroke-width:1;stroke-linecap:butt;stroke-linejoin:miter;stroke:rgb(26.666667%,26.666667%,26.666667%);stroke-opacity:1;stroke-miterlimit:10;\" d=\"M 406.929688 410.445312 L 213.585938 455.984375 \"/>\n<path style=\"fill:none;stroke-width:1;stroke-linecap:butt;stroke-linejoin:miter;stroke:rgb(26.666667%,26.666667%,26.666667%);stroke-opacity:1;stroke-miterlimit:10;\" d=\"M 224.328125 533.664062 L 213.585938 455.984375 \"/>\n<path style=\"fill:none;stroke-width:1;stroke-linecap:butt;stroke-linejoin:miter;stroke:rgb(26.666667%,26.666667%,26.666667%);stroke-opacity:1;stroke-miterlimit:10;\" d=\"M 28.925781 414.230469 L 213.585938 455.984375 \"/>\n<path style=\"fill:none;stroke-width:1;stroke-linecap:butt;stroke-linejoin:miter;stroke:rgb(26.666667%,26.666667%,26.666667%);stroke-opacity:1;stroke-miterlimit:10;\" d=\"M 20 336.488281 L 196.101562 289.914062 \"/>\n<path style=\"fill:none;stroke-width:1;stroke-linecap:butt;stroke-linejoin:miter;stroke:rgb(26.666667%,26.666667%,26.666667%);stroke-opacity:1;stroke-miterlimit:10;\" d=\"M 406.929688 410.445312 L 397.417969 330.949219 \"/>\n<path style=\"fill:none;stroke-width:1;stroke-linecap:butt;stroke-linejoin:miter;stroke:rgb(26.666667%,26.666667%,26.666667%);stroke-opacity:1;stroke-miterlimit:10;\" d=\"M 196.101562 289.914062 L 397.417969 330.949219 \"/>\n<path style=\"fill:none;stroke-width:1;stroke-linecap:butt;stroke-linejoin:miter;stroke:rgb(26.666667%,26.666667%,26.666667%);stroke-opacity:1;stroke-miterlimit:10;\" d=\"M 543.398438 272.109375 L 397.417969 330.949219 \"/>\n<path style=\"fill:none;stroke-width:1;stroke-linecap:butt;stroke-linejoin:miter;stroke:rgb(26.666667%,26.666667%,26.666667%);stroke-opacity:1;stroke-miterlimit:10;\" d=\"M 523.6875 195.050781 L 334.199219 153.171875 \"/>\n<path style=\"fill:none;stroke-width:1;stroke-linecap:butt;stroke-linejoin:miter;stroke:rgb(26.666667%,26.666667%,26.666667%);stroke-opacity:1;stroke-miterlimit:10;\" d=\"M 187.441406 211.804688 L 196.101562 289.914062 \"/>\n<path style=\"fill:none;stroke-width:1;stroke-linecap:butt;stroke-linejoin:miter;stroke:rgb(26.666667%,26.666667%,26.666667%);stroke-opacity:1;stroke-miterlimit:10;\" d=\"M 187.441406 211.804688 L 334.199219 153.171875 \"/>\n<path style=\"fill:none;stroke-width:1;stroke-linecap:butt;stroke-linejoin:miter;stroke:rgb(26.666667%,26.666667%,26.666667%);stroke-opacity:1;stroke-miterlimit:10;\" d=\"M 334.199219 153.171875 L 311.722656 76.488281 \"/>\n<path style=\"fill:none;stroke-width:1;stroke-linecap:butt;stroke-linejoin:miter;stroke:rgb(26.666667%,26.666667%,26.666667%);stroke-opacity:1;stroke-miterlimit:10;\" d=\"M 152.722656 26.6875 L 311.722656 76.488281 \"/>\n<path style=\"fill:none;stroke-width:1;stroke-linecap:butt;stroke-linejoin:miter;stroke:rgb(26.666667%,26.666667%,26.666667%);stroke-opacity:1;stroke-miterlimit:10;\" d=\"M 452.621094 20 L 311.722656 76.488281 \"/>\n<path style=\"fill-rule:nonzero;fill:rgb(100%,0%,0%);fill-opacity:1;stroke-width:1;stroke-linecap:butt;stroke-linejoin:miter;stroke:rgb(0%,0%,0%);stroke-opacity:1;stroke-miterlimit:10;\" d=\"M 162.722656 26.6875 C 162.722656 32.210938 158.246094 36.6875 152.722656 36.6875 C 147.199219 36.6875 142.722656 32.210938 142.722656 26.6875 C 142.722656 21.167969 147.199219 16.6875 152.722656 16.6875 C 158.246094 16.6875 162.722656 21.167969 162.722656 26.6875 \"/>\n<path style=\"fill-rule:nonzero;fill:rgb(100%,0%,0%);fill-opacity:1;stroke-width:1;stroke-linecap:butt;stroke-linejoin:miter;stroke:rgb(0%,0%,0%);stroke-opacity:1;stroke-miterlimit:10;\" d=\"M 462.621094 20 C 462.621094 25.523438 458.144531 30 452.621094 30 C 447.097656 30 442.621094 25.523438 442.621094 20 C 442.621094 14.476562 447.097656 10 452.621094 10 C 458.144531 10 462.621094 14.476562 462.621094 20 \"/>\n<path style=\"fill-rule:nonzero;fill:rgb(100%,0%,0%);fill-opacity:1;stroke-width:1;stroke-linecap:butt;stroke-linejoin:miter;stroke:rgb(0%,0%,0%);stroke-opacity:1;stroke-miterlimit:10;\" d=\"M 406.789062 580 C 406.789062 585.523438 402.3125 590 396.789062 590 C 391.269531 590 386.789062 585.523438 386.789062 580 C 386.789062 574.476562 391.269531 570 396.789062 570 C 402.3125 570 406.789062 574.476562 406.789062 580 \"/>\n<path style=\"fill-rule:nonzero;fill:rgb(100%,0%,0%);fill-opacity:1;stroke-width:1;stroke-linecap:butt;stroke-linejoin:miter;stroke:rgb(0%,0%,0%);stroke-opacity:1;stroke-miterlimit:10;\" d=\"M 590 538.117188 C 590 543.636719 585.523438 548.117188 580 548.117188 C 574.476562 548.117188 570 543.636719 570 538.117188 C 570 532.59375 574.476562 528.117188 580 528.117188 C 585.523438 528.117188 590 532.59375 590 538.117188 \"/>\n<path style=\"fill-rule:nonzero;fill:rgb(100%,0%,0%);fill-opacity:1;stroke-width:1;stroke-linecap:butt;stroke-linejoin:miter;stroke:rgb(0%,0%,0%);stroke-opacity:1;stroke-miterlimit:10;\" d=\"M 584.03125 461.203125 C 584.03125 466.722656 579.554688 471.203125 574.03125 471.203125 C 568.507812 471.203125 564.03125 466.722656 564.03125 461.203125 C 564.03125 455.679688 568.507812 451.203125 574.03125 451.203125 C 579.554688 451.203125 584.03125 455.679688 584.03125 461.203125 \"/>\n<path style=\"fill-rule:nonzero;fill:rgb(100%,0%,0%);fill-opacity:1;stroke-width:1;stroke-linecap:butt;stroke-linejoin:miter;stroke:rgb(0%,0%,0%);stroke-opacity:1;stroke-miterlimit:10;\" d=\"M 234.328125 533.664062 C 234.328125 539.1875 229.851562 543.664062 224.328125 543.664062 C 218.804688 543.664062 214.328125 539.1875 214.328125 533.664062 C 214.328125 528.140625 218.804688 523.664062 224.328125 523.664062 C 229.851562 523.664062 234.328125 528.140625 234.328125 533.664062 \"/>\n<path style=\"fill-rule:nonzero;fill:rgb(100%,0%,0%);fill-opacity:1;stroke-width:1;stroke-linecap:butt;stroke-linejoin:miter;stroke:rgb(0%,0%,0%);stroke-opacity:1;stroke-miterlimit:10;\" d=\"M 38.925781 414.230469 C 38.925781 419.753906 34.449219 424.230469 28.925781 424.230469 C 23.402344 424.230469 18.925781 419.753906 18.925781 414.230469 C 18.925781 408.707031 23.402344 404.230469 28.925781 404.230469 C 34.449219 404.230469 38.925781 408.707031 38.925781 414.230469 \"/>\n<path style=\"fill-rule:nonzero;fill:rgb(100%,0%,0%);fill-opacity:1;stroke-width:1;stroke-linecap:butt;stroke-linejoin:miter;stroke:rgb(0%,0%,0%);stroke-opacity:1;stroke-miterlimit:10;\" d=\"M 30 336.488281 C 30 342.007812 25.523438 346.488281 20 346.488281 C 14.476562 346.488281 10 342.007812 10 336.488281 C 10 330.964844 14.476562 326.488281 20 326.488281 C 25.523438 326.488281 30 330.964844 30 336.488281 \"/>\n<path style=\"fill-rule:nonzero;fill:rgb(100%,0%,0%);fill-opacity:1;stroke-width:1;stroke-linecap:butt;stroke-linejoin:miter;stroke:rgb(0%,0%,0%);stroke-opacity:1;stroke-miterlimit:10;\" d=\"M 553.398438 272.109375 C 553.398438 277.632812 548.921875 282.109375 543.398438 282.109375 C 537.875 282.109375 533.398438 277.632812 533.398438 272.109375 C 533.398438 266.585938 537.875 262.109375 543.398438 262.109375 C 548.921875 262.109375 553.398438 266.585938 553.398438 272.109375 \"/>\n<path style=\"fill-rule:nonzero;fill:rgb(100%,0%,0%);fill-opacity:1;stroke-width:1;stroke-linecap:butt;stroke-linejoin:miter;stroke:rgb(0%,0%,0%);stroke-opacity:1;stroke-miterlimit:10;\" d=\"M 533.6875 195.050781 C 533.6875 200.574219 529.210938 205.050781 523.6875 205.050781 C 518.164062 205.050781 513.6875 200.574219 513.6875 195.050781 C 513.6875 189.527344 518.164062 185.050781 523.6875 185.050781 C 529.210938 185.050781 533.6875 189.527344 533.6875 195.050781 \"/>\n<path style=\"fill-rule:nonzero;fill:rgb(100%,0%,0%);fill-opacity:1;stroke-width:1;stroke-linecap:butt;stroke-linejoin:miter;stroke:rgb(0%,0%,0%);stroke-opacity:1;stroke-miterlimit:10;\" d=\"M 197.441406 211.804688 C 197.441406 217.328125 192.960938 221.804688 187.441406 221.804688 C 181.917969 221.804688 177.441406 217.328125 177.441406 211.804688 C 177.441406 206.28125 181.917969 201.804688 187.441406 201.804688 C 192.960938 201.804688 197.441406 206.28125 197.441406 211.804688 \"/>\n<path style=\"fill-rule:nonzero;fill:rgb(100%,0%,0%);fill-opacity:1;stroke-width:1;stroke-linecap:butt;stroke-linejoin:miter;stroke:rgb(0%,0%,0%);stroke-opacity:1;stroke-miterlimit:10;\" d=\"M 416.929688 410.445312 C 416.929688 415.96875 412.453125 420.445312 406.929688 420.445312 C 401.40625 420.445312 396.929688 415.96875 396.929688 410.445312 C 396.929688 404.921875 401.40625 400.445312 406.929688 400.445312 C 412.453125 400.445312 416.929688 404.921875 416.929688 410.445312 \"/>\n<path style=\"fill-rule:nonzero;fill:rgb(100%,0%,0%);fill-opacity:1;stroke-width:1;stroke-linecap:butt;stroke-linejoin:miter;stroke:rgb(0%,0%,0%);stroke-opacity:1;stroke-miterlimit:10;\" d=\"M 223.585938 455.984375 C 223.585938 461.507812 219.105469 465.984375 213.585938 465.984375 C 208.0625 465.984375 203.585938 461.507812 203.585938 455.984375 C 203.585938 450.460938 208.0625 445.984375 213.585938 445.984375 C 219.105469 445.984375 223.585938 450.460938 223.585938 455.984375 \"/>\n<path style=\"fill-rule:nonzero;fill:rgb(100%,0%,0%);fill-opacity:1;stroke-width:1;stroke-linecap:butt;stroke-linejoin:miter;stroke:rgb(0%,0%,0%);stroke-opacity:1;stroke-miterlimit:10;\" d=\"M 206.101562 289.914062 C 206.101562 295.4375 201.625 299.914062 196.101562 299.914062 C 190.578125 299.914062 186.101562 295.4375 186.101562 289.914062 C 186.101562 284.390625 190.578125 279.914062 196.101562 279.914062 C 201.625 279.914062 206.101562 284.390625 206.101562 289.914062 \"/>\n<path style=\"fill-rule:nonzero;fill:rgb(100%,0%,0%);fill-opacity:1;stroke-width:1;stroke-linecap:butt;stroke-linejoin:miter;stroke:rgb(0%,0%,0%);stroke-opacity:1;stroke-miterlimit:10;\" d=\"M 407.417969 330.949219 C 407.417969 336.472656 402.941406 340.949219 397.417969 340.949219 C 391.894531 340.949219 387.417969 336.472656 387.417969 330.949219 C 387.417969 325.429688 391.894531 320.949219 397.417969 320.949219 C 402.941406 320.949219 407.417969 325.429688 407.417969 330.949219 \"/>\n<path style=\"fill-rule:nonzero;fill:rgb(100%,0%,0%);fill-opacity:1;stroke-width:1;stroke-linecap:butt;stroke-linejoin:miter;stroke:rgb(0%,0%,0%);stroke-opacity:1;stroke-miterlimit:10;\" d=\"M 344.199219 153.171875 C 344.199219 158.695312 339.722656 163.171875 334.199219 163.171875 C 328.675781 163.171875 324.199219 158.695312 324.199219 153.171875 C 324.199219 147.648438 328.675781 143.171875 334.199219 143.171875 C 339.722656 143.171875 344.199219 147.648438 344.199219 153.171875 \"/>\n<path style=\"fill-rule:nonzero;fill:rgb(100%,0%,0%);fill-opacity:1;stroke-width:1;stroke-linecap:butt;stroke-linejoin:miter;stroke:rgb(0%,0%,0%);stroke-opacity:1;stroke-miterlimit:10;\" d=\"M 321.722656 76.488281 C 321.722656 82.011719 317.246094 86.488281 311.722656 86.488281 C 306.199219 86.488281 301.722656 82.011719 301.722656 76.488281 C 301.722656 70.964844 306.199219 66.488281 311.722656 66.488281 C 317.246094 66.488281 321.722656 70.964844 321.722656 76.488281 \"/>\n<g style=\"fill:rgb(0%,0%,0%);fill-opacity:1;\">\n  <use xlink:href=\"#glyph0-1\" x=\"148.527344\" y=\"33.472656\"/>\n</g>\n<g style=\"fill:rgb(0%,0%,0%);fill-opacity:1;\">\n  <use xlink:href=\"#glyph0-1\" x=\"448.425781\" y=\"26.785156\"/>\n</g>\n<g style=\"fill:rgb(0%,0%,0%);fill-opacity:1;\">\n  <use xlink:href=\"#glyph0-2\" x=\"392.597656\" y=\"586.785156\"/>\n</g>\n<g style=\"fill:rgb(0%,0%,0%);fill-opacity:1;\">\n  <use xlink:href=\"#glyph0-2\" x=\"575.804688\" y=\"544.902344\"/>\n</g>\n<g style=\"fill:rgb(0%,0%,0%);fill-opacity:1;\">\n  <use xlink:href=\"#glyph0-2\" x=\"569.839844\" y=\"467.984375\"/>\n</g>\n<g style=\"fill:rgb(0%,0%,0%);fill-opacity:1;\">\n  <use xlink:href=\"#glyph0-2\" x=\"220.132812\" y=\"540.449219\"/>\n</g>\n<g style=\"fill:rgb(0%,0%,0%);fill-opacity:1;\">\n  <use xlink:href=\"#glyph0-2\" x=\"24.730469\" y=\"421.015625\"/>\n</g>\n<g style=\"fill:rgb(0%,0%,0%);fill-opacity:1;\">\n  <use xlink:href=\"#glyph0-2\" x=\"15.804688\" y=\"343.269531\"/>\n</g>\n<g style=\"fill:rgb(0%,0%,0%);fill-opacity:1;\">\n  <use xlink:href=\"#glyph0-2\" x=\"539.203125\" y=\"278.894531\"/>\n</g>\n<g style=\"fill:rgb(0%,0%,0%);fill-opacity:1;\">\n  <use xlink:href=\"#glyph0-2\" x=\"519.496094\" y=\"201.835938\"/>\n</g>\n<g style=\"fill:rgb(0%,0%,0%);fill-opacity:1;\">\n  <use xlink:href=\"#glyph0-2\" x=\"183.246094\" y=\"218.589844\"/>\n</g>\n<g style=\"fill:rgb(0%,0%,0%);fill-opacity:1;\">\n  <use xlink:href=\"#glyph0-2\" x=\"402.738281\" y=\"417.230469\"/>\n</g>\n<g style=\"fill:rgb(0%,0%,0%);fill-opacity:1;\">\n  <use xlink:href=\"#glyph0-2\" x=\"209.390625\" y=\"462.769531\"/>\n</g>\n<g style=\"fill:rgb(0%,0%,0%);fill-opacity:1;\">\n  <use xlink:href=\"#glyph0-2\" x=\"191.90625\" y=\"296.699219\"/>\n</g>\n<g style=\"fill:rgb(0%,0%,0%);fill-opacity:1;\">\n  <use xlink:href=\"#glyph0-2\" x=\"393.226562\" y=\"337.734375\"/>\n</g>\n<g style=\"fill:rgb(0%,0%,0%);fill-opacity:1;\">\n  <use xlink:href=\"#glyph0-2\" x=\"330.003906\" y=\"159.957031\"/>\n</g>\n<g style=\"fill:rgb(0%,0%,0%);fill-opacity:1;\">\n  <use xlink:href=\"#glyph0-3\" x=\"307.355469\" y=\"83.203125\"/>\n</g>\n</g>\n</svg>\n"
          },
          "metadata": {
            "tags": [],
            "image/svg+xml": {
              "isolated": true
            }
          },
          "execution_count": 10
        }
      ]
    },
    {
      "cell_type": "markdown",
      "metadata": {
        "id": "rvHT3fe6v-M7"
      },
      "source": [
        "## Checking for Isomoprhism of Graphs using 1D WL test "
      ]
    },
    {
      "cell_type": "code",
      "metadata": {
        "id": "xUXPQB5f43MW"
      },
      "source": [
        "#does label compression \n",
        "def f(graph,dict_labels,unique):\n",
        "\n",
        "\n",
        "  new_labels = {}\n",
        "  for s_v in unique_labels:\n",
        "\n",
        "    if s_v in dict_labels.keys():\n",
        "      new_labels.update({ s_v : dict_labels[s_v] })\n",
        "\n",
        "    else :\n",
        "      new_label  = str(len(dict_labels)+1)\n",
        "      new_labels.update({ s_v  : new_label })    \n",
        "      dict_labels.update({ s_v : new_label)})\n",
        "\n",
        "\n"
      ],
      "execution_count": null,
      "outputs": []
    },
    {
      "cell_type": "code",
      "metadata": {
        "id": "ZICf3694xlUT"
      },
      "source": [
        "#does one iteration of WL test for Isomorphism \n",
        "def update_compressed_code(graph G):\n",
        "\n",
        "  \n",
        "    multiset_g = list()\n",
        "    for v in G.get_vertices():\n",
        "\n",
        "      multiset_v = list()\n",
        "\n",
        "      #multiset-label determination\n",
        "      for neigh in G[v]:\n",
        "        multiset_v.append(G[neigh]['label'])\n",
        "\n",
        "      #sorting each muliset  \n",
        "      multiset_v.sort() \n",
        "      multiset_v.insert(G[v],0)\n",
        "      multiset_g.append(multiset_v)\n",
        "      \n",
        "    unique_multiset_g = list(set(tuple(multiset_g))) #lists are not hashable so convert into tuples\n",
        "\n",
        "    #label-compression\n",
        "    compressed_labels = {}\n",
        "\n",
        "\n"
      ],
      "execution_count": null,
      "outputs": []
    },
    {
      "cell_type": "code",
      "metadata": {
        "id": "U8MUrtgbYpAc"
      },
      "source": [
        "#1d version of weisfeiler-lehman test for isomorphism \n",
        "def weisfeiler_lehman_test(graph G1,graph G2):\n",
        "\n",
        "  V = G1.V\n",
        "  for i in range(V):\n",
        "\n",
        "    \n",
        "\n"
      ],
      "execution_count": null,
      "outputs": []
    },
    {
      "cell_type": "markdown",
      "metadata": {
        "id": "bA5Enr3sBHG8"
      },
      "source": [
        "Example for testing isomorphism of graphs "
      ]
    },
    {
      "cell_type": "code",
      "metadata": {
        "id": "9qxTGRqkBVvL"
      },
      "source": [
        ""
      ],
      "execution_count": null,
      "outputs": []
    },
    {
      "cell_type": "code",
      "metadata": {
        "id": "SwkZwmJMY6jZ"
      },
      "source": [
        "#weisfeiler lehman subtree kernel\n",
        "def weisfeiler_lehman_subtree_kernel():\n"
      ],
      "execution_count": null,
      "outputs": []
    },
    {
      "cell_type": "code",
      "metadata": {
        "id": "Pnww3wpaOyRf"
      },
      "source": [
        "\n",
        "def weisfeiler_lehman_edge_kernel():\n"
      ],
      "execution_count": null,
      "outputs": []
    }
  ]
}