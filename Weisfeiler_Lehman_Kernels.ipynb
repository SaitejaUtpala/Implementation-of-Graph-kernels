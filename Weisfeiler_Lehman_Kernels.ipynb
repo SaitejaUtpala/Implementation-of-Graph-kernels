{
  "nbformat": 4,
  "nbformat_minor": 0,
  "metadata": {
    "colab": {
      "name": "Weisfeiler Lehman Kernels.ipynb",
      "provenance": [],
      "collapsed_sections": []
    },
    "kernelspec": {
      "name": "python3",
      "display_name": "Python 3"
    }
  },
  "cells": [
    {
      "cell_type": "markdown",
      "metadata": {
        "id": "-XtYogD9YwYy"
      },
      "source": [
        "#Weisfeiler-lehman Kernels "
      ]
    },
    {
      "cell_type": "code",
      "metadata": {
        "id": "xUXPQB5f43MW"
      },
      "source": [
        "#does label compression \n",
        "def f(graph,dict_labels,unique):\n",
        "\n",
        "\n",
        "  new_labels = {}\n",
        "  for s_v in unique_labels:\n",
        "\n",
        "    if s_v in dict_labels.keys():\n",
        "      new_labels.update({ s_v : dict_labels[s_v] })\n",
        "\n",
        "    else :\n",
        "      new_label  = str(len(dict_labels)+1)\n",
        "      new_labels.update({ s_v  : new_label })    \n",
        "      dict_labels.update({ s_v : new_label)})\n",
        "\n",
        "\n"
      ],
      "execution_count": null,
      "outputs": []
    },
    {
      "cell_type": "code",
      "metadata": {
        "id": "ZICf3694xlUT"
      },
      "source": [
        "#does one iteration of WL test for Isomorphism \n",
        "def update_compressed_code(graph G):\n",
        "\n",
        "  \n",
        "    multiset_g = list()\n",
        "    for v in G.get_vertices():\n",
        "\n",
        "      multiset_v = list()\n",
        "\n",
        "      #multiset-label determination\n",
        "      for neigh in G[v]:\n",
        "        multiset_v.append(G[neigh]['label'])\n",
        "\n",
        "      #sorting each muliset  \n",
        "      multiset_v.sort() \n",
        "      multiset_v.insert(G[v],0)\n",
        "      multiset_g.append(multiset_v)\n",
        "      \n",
        "    unique_multiset_g = list(set(tuple(multiset_g))) #lists are not hashable so convert into tuples\n",
        "\n",
        "    #label-compression\n",
        "    compressed_labels = {}\n",
        "\n",
        "\n"
      ],
      "execution_count": null,
      "outputs": []
    },
    {
      "cell_type": "code",
      "metadata": {
        "id": "U8MUrtgbYpAc"
      },
      "source": [
        "#1d version of weisfeiler-lehman test for isomorphism \n",
        "def weisfeiler_lehman_test(graph G1,graph G2):\n",
        "\n",
        "  V = G1.V\n",
        "  for i in range(V):\n",
        "\n",
        "    \n",
        "\n"
      ],
      "execution_count": null,
      "outputs": []
    },
    {
      "cell_type": "code",
      "metadata": {
        "id": "SwkZwmJMY6jZ"
      },
      "source": [
        "#weisfeiler lehman subtree kernel\n",
        "def weisfeiler_lehman_subtree_kernel():\n"
      ],
      "execution_count": null,
      "outputs": []
    },
    {
      "cell_type": "code",
      "metadata": {
        "id": "Pnww3wpaOyRf"
      },
      "source": [
        "\n",
        "def weisfeiler_lehman_edge_kernel():\n"
      ],
      "execution_count": null,
      "outputs": []
    }
  ]
}