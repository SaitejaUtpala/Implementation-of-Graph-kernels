{
  "nbformat": 4,
  "nbformat_minor": 0,
  "metadata": {
    "colab": {
      "name": "Label Pair Graph Kernels.ipynb",
      "provenance": [],
      "collapsed_sections": []
    },
    "kernelspec": {
      "name": "python3",
      "display_name": "Python 3"
    }
  },
  "cells": [
    {
      "cell_type": "markdown",
      "metadata": {
        "id": "WFXlSrnGAtzP"
      },
      "source": [
        "Label Pair Graph Kernels are proposed [On Graph Kernels:\r\n",
        "Hardness Results and Efficient Alternatives](http://citeseerx.ist.psu.edu/viewdoc/download?doi=10.1.1.152.8681&rep=rep1&type=pdf)\r\n",
        "\r\n",
        "\r\n",
        "*   Kernels based on label pairs\r\n",
        "*   Kernels based on contiguous label sequences\r\n",
        "\r\n",
        "\r\n",
        "\r\n"
      ]
    },
    {
      "cell_type": "markdown",
      "metadata": {
        "id": "ajueTMb6PhqD"
      },
      "source": [
        "let $w \\in \\mathcal{W}_{n}(G)$ denote the set of all possible walks with $n$ edges in $G$ and $\\lambda$ be a sequence $\\lambda_{0},\\lambda_{1} , \\dots $ of weights $\\lambda_{n} \\geq 0 $ for all $n \\in \\mathbb{N}$. for a given walk $w \\in \\mathcal{W}_{n}(G)$. let $l_{1}(w)$ denote the label of the first vertex and $l_{n+1}(w)$ denote the label of the last vertex of the walk.\r\n",
        "\r\n",
        "The label pair feature space is defined by one feature $\\phi_{\\ell_{i} , \\ell_{j}}$ for each pair of the labels $\\ell_{i}̣,\\ell_{j}$\r\n",
        "\r\n",
        "$$ \\begin{align*}  \\phi_{\\ell_{i},\\ell_{j}}(G) &= \\sum_{n=0}^{\\infty} \\lambda_n . \\text{number of walks of length $n$ that start with vertex which has label i and end with vertex which has label j} \\\\\r\n",
        "&= \\sum_{i=0}^{\\infty}  \\lambda_{n} . |\\{ w \\in \\mathcal{W}_{n}(G) : l_{1}(w) = \\ell_i \\land l_{n+1}(w) = \\ell_{j} \\}|\r\n",
        "\\end{align*} $$\r\n",
        "\r\n",
        "Now, \r\n",
        "\r\n",
        "$$ \\begin{align*} K(G,G')&= \\left<\\phi(G) , \\phi(G')\\right> \\\\\r\n",
        "&= \\sum_{\\ell_{i} , \\ell_{j}} \\left[ \\sum_{n=0}^{\\infty} \\lambda_{n}  |\\{ w \\in \\mathcal{W}_{n}(G) : l_{1}(w) = \\ell_i \\land l_{n+1}(w) = \\ell_{j} \\}| \\,.\\ \\sum_{m=0}^{\\infty} \\lambda'_ {m}|\\{ w \\in \\mathcal{W}_{m}(G') : l_{1}(w) = \\ell_i \\land l_{n+1}(w) = \\ell_{j} \\}| \\right]  \\\\\r\n",
        "&= \\sum_{n=0}^{\\infty} \\sum_{m=0}^{\\infty}  \\left[ \\sum_{\\ell_i, \\ell_j} \\lambda_{n} \\lambda_{m}' |\\{ w \\in \\mathcal{W}_{n}(G) : l_{1}(w) = \\ell_i \\land l_{n+1}(w) = \\ell_{j} \\}|. |\\{ w \\in \\mathcal{W}_{m}(G') : l_{1}(w) = \\ell_i \\land l_{n+1}(w) = \\ell_{j} \\}|  \\right] \\\\\r\n",
        "&= \\sum_{n=0}^{\\infty} \\sum_{m=0}^{\\infty} \\sum_{\\ell_i,\\ell_j} \\lambda_{n} (LE^nL^{T})_{ij}. \\lambda_{m} (L'E'^{n}L'^{T})_{ij} \\\\\r\n",
        "&=  \\sum_{n=0}^{\\infty} \\sum_{m=0}^{\\infty} \\left<L (\\lambda_{n}E^n)L^{T},L'(\\lambda_{m}E'^{m})L'^{T}\\right> \\\\\r\n",
        "&= \\left< \\sum_{n=0}^{\\infty}  L (\\lambda_{n}E^n)L^{T}, \\sum_{m=0}^{\\infty} L'(\\lambda_{m}E'^{m})L'^{T}\\right> \\\\\r\n",
        "&= \\left<  L \\left(\\sum_{n=0}^{\\infty}  \\lambda_{n}E^n \\right)L^{T},  L'\\left(\\sum_{n=0}^{\\infty} \\lambda_{n}E'^{n}\\right)L'^{T} \\right> \\\\\r\n",
        "\\end{align*}$$\r\n",
        "\r\n"
      ]
    },
    {
      "cell_type": "code",
      "metadata": {
        "id": "oJ0fAbFERrd-"
      },
      "source": [
        ""
      ],
      "execution_count": null,
      "outputs": []
    },
    {
      "cell_type": "markdown",
      "metadata": {
        "id": "2fwoQPTYAAuB"
      },
      "source": [
        "let $\\mathcal{S}_n$ denote the set of all possible label sequences of walks with $n$ edges and $\\lambda$ be sequence of weights. let $\\mathcal{W}_n(G)$ denote the set of all possible walks with $n$ edges in graph $G$. for a given walk $w \\in \\mathcal{W}_{n}(G)$  let $l_{i}(w)$ denote the i-th label of the walk. \r\n",
        "\r\n",
        "The sequence feature space is defined by one features for each possible label sequence. In particular, for any given length $n$ and label sequence $s_1,s_2,\\dots,s_{2n+1}$, the corresponding featuer value for every graph $\\mathcal{G}$ is \r\n",
        "\r\n",
        "$$\\begin{align} \\phi_{s}(G) &= \\sqrt{\\lambda_{s}(G)} |\\{ w \\in \\mathcal{W}_{n}(G), \\forall i : s_{i} = \\ell_{i}(w)\\}|\r\n",
        "\\end{align}$$\r\n",
        "\r\n",
        "\r\n",
        "we denote the direct product of graphs $G_1$ and $G_2$ is denoted as $G_1 \\times G_2$. vertex set and edge set of $G_1 \\times G_2$ is defined as follows \r\n",
        "\r\n",
        "$$\r\n",
        "\\begin{align} \\mathcal{V}(G_1 \\times G_2)&= \\{ (v_1,v_2)  \\in \\mathcal{V}_1 \\times \\mathcal{V}_2 : \\text{label}(v_1) = \\text{label}(v_2) \\} \\\\\r\n",
        "\\mathcal{E}(G_1 \\times G_2) &= \\{ ((u_1,u_2),(v_1,v_2)) \\in \\mathcal{V}^2(G_1 \\times G_2) : (u_1,v_1) \\in \\mathcal{E}(G_1) , (u_2,v_2) \\in \\mathcal{E}(G_2) , \\text{label}((u_1,v_1)) = \\text{label}((u_2,v_2)) \\}\r\n",
        "\\end{align}$$\r\n",
        "\r\n",
        "A vertex (edge) in graph $G_1 \\times G_2$ has the same label as the corresponding vertices(edges) in $G_1$ and $G_2$\r\n",
        "\r\n",
        "\r\n",
        "$$\r\n",
        "\\begin{align} |\\{ w\\in \\mathcal{W}_{n}(G' \\times G) , \\forall i : s_i = l_i(w) \\}|&= |\\{  w \\in \\mathcal{W}_{n}(G),\\forall i : s_i = l_i(w) \\}|.|\\{  w \\in \\mathcal{W}_{n}(G'),\\forall i : s_i = l_i(w) \\}|\r\n",
        "\\end{align}$$"
      ]
    },
    {
      "cell_type": "code",
      "metadata": {
        "id": "TRifEO6pMKAx"
      },
      "source": [
        ""
      ],
      "execution_count": null,
      "outputs": []
    }
  ]
}