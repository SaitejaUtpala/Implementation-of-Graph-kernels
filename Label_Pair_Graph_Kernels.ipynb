{
  "nbformat": 4,
  "nbformat_minor": 0,
  "metadata": {
    "colab": {
      "name": "Label Pair Graph Kernels.ipynb",
      "provenance": [],
      "collapsed_sections": []
    },
    "kernelspec": {
      "display_name": "Python 3",
      "name": "python3"
    }
  },
  "cells": [
    {
      "cell_type": "markdown",
      "metadata": {
        "id": "WFXlSrnGAtzP"
      },
      "source": [
        "Label Pair Graph Kernels are proposed [On Graph Kernels:\n",
        "Hardness Results and Efficient Alternatives](http://citeseerx.ist.psu.edu/viewdoc/download?doi=10.1.1.152.8681&rep=rep1&type=pdf)\n",
        "\n",
        "\n",
        "*   **Kernels based on label pairs**\n",
        "\n",
        "      *  Derivation of Kernel\n",
        "      *  Implementation and Illustartion of the Kernel \n",
        "      *  Doing Graph Classificaiton on MUTANG dataset using Label Pair Kernel\n",
        "\n",
        "*   **Kernels based on contiguous label sequences**\n",
        "      *  contiguous label sequences and direct products \n",
        "      *  Implementation and Illustration of the Kernel\n",
        "      *  Doing Graph Classification on MUTANG dataset using contiguous label sequences\n",
        "\n",
        "*    **Comparision of both kernels**\n",
        "*     **Doing Graph Classification on Large Datasets**\n",
        "*     **Seeing if Multiple Cores and Sparsity helps in Speeding up**\n",
        "\n",
        "\n",
        "\n"
      ]
    },
    {
      "cell_type": "markdown",
      "metadata": {
        "id": "ajueTMb6PhqD"
      },
      "source": [
        "#**Kernels based on Label Pairs**\n",
        "\n",
        "let $w \\in \\mathcal{W}_{n}(G)$ denote the set of all possible walks with $n$ edges in $G$ and $\\lambda$ be a sequence $\\lambda_{0},\\lambda_{1} , \\dots $ of weights $\\lambda_{n} \\geq 0 $ for all $n \\in \\mathbb{N}$. for a given walk $w \\in \\mathcal{W}_{n}(G)$. let $l_{1}(w)$ denote the label of the first vertex and $l_{n+1}(w)$ denote the label of the last vertex of the walk.\n",
        "\n",
        "The label pair feature space is defined by one feature $\\phi_{\\ell_{i} , \\ell_{j}}$ for each pair of the labels $\\ell_{i}̣,\\ell_{j}$\n",
        "\n",
        "$$ \\begin{align*}  \\phi_{\\ell_{i},\\ell_{j}}(G) &= \\sum_{n=0}^{\\infty} \\lambda_n . \\text{number of walks of length $n$ that start with vertex which has label i and end with vertex which has label j} \\\\\n",
        "&= \\sum_{i=0}^{\\infty}  \\lambda_{n} . |\\{ w \\in \\mathcal{W}_{n}(G) : l_{1}(w) = \\ell_i \\land l_{n+1}(w) = \\ell_{j} \\}| \n",
        "\\end{align*} $$\n",
        "\n",
        "Now, \n",
        "\n",
        "\n",
        "$$ \\begin{align*} K(G,G')&= \\left < \\phi(G) , \\phi(G') \\right > \\\\\n",
        "&= \\sum_{\\ell_{i} , \\ell_{j}} \\left[ \\sum_{n=0}^{\\infty} \\lambda_{n}  |\\{ w \\in \\mathcal{W}_{n}(G) : l_{1}(w) = \\ell_i \\land l_{n+1}(w) = \\ell_{j} \\}| \\,.\\ \\sum_{m=0}^{\\infty} \\lambda'_ {m}|\\{ w \\in \\mathcal{W}_{m}(G') : l_{1}(w) = \\ell_i \\land l_{n+1}(w) = \\ell_{j} \\}| \\right]  \\\\\n",
        "&= \\sum_{n=0}^{\\infty} \\sum_{m=0}^{\\infty}  \\left[ \\sum_{\\ell_i, \\ell_j} \\lambda_{n} \\lambda_{m}' |\\{ w \\in \\mathcal{W}_{n}(G) : l_{1}(w) = \\ell_i \\land l_{n+1}(w) = \\ell_{j} \\}|. |\\{ w \\in \\mathcal{W}_{m}(G') : l_{1}(w) = \\ell_i \\land l_{n+1}(w) = \\ell_{j} \\}|  \\right] \\\\\n",
        "&= \\sum_{n=0}^{\\infty} \\sum_{m=0}^{\\infty} \\sum_{\\ell_i,\\ell_j} \\lambda_{n} (LE^nL^{T})_{ij}. \\lambda_{m} (L'E'^{n}L'^{T})_{ij} \\\\\n",
        "&=  \\sum_{n=0}^{\\infty} \\sum_{m=0}^{\\infty} \\left<L (\\lambda_{n}E^n)L^{T},L'(\\lambda_{m}E'^{m})L'^{T}\\right> \\\\\n",
        "&= \\left< \\sum_{n=0}^{\\infty}  L (\\lambda_{n}E^n)L^{T}, \\sum_{m=0}^{\\infty} L'(\\lambda_{m}E'^{m})L'^{T}\\right> \\\\\n",
        "&= \\left<  L \\left(\\sum_{n=0}^{\\infty}  \\lambda_{n}E^n \\right)L^{T},  L'\\left(\\sum_{n=0}^{\\infty} \\lambda_{n}E'^{n}\\right)L'^{T} \\right> \\\\\n",
        "\\end{align*}$$\n",
        "\n"
      ]
    },
    {
      "cell_type": "code",
      "metadata": {
        "colab": {
          "base_uri": "https://localhost:8080/"
        },
        "id": "HD6XX4hYPnS-",
        "outputId": "a817e62f-7cb9-43aa-ed65-3a94781fc8ce"
      },
      "source": [
        "#install python-igraph : we use IGraph for manipulating and storing graph data\n",
        "#install cairocffi : needed for ploting for python-igraph\n",
        "\n",
        "!pip install python-igraph\n",
        "!pip install cairocffi"
      ],
      "execution_count": null,
      "outputs": [
        {
          "output_type": "stream",
          "text": [
            "Collecting python-igraph\n",
            "\u001b[?25l  Downloading https://files.pythonhosted.org/packages/ae/12/1fbdb491d89fad8abb7aca0189978655cfdc984a380b846478f2ccdfdad8/python_igraph-0.9.1-cp37-cp37m-manylinux2010_x86_64.whl (3.2MB)\n",
            "\u001b[K     |████████████████████████████████| 3.2MB 10.8MB/s \n",
            "\u001b[?25hCollecting texttable>=1.6.2\n",
            "  Downloading https://files.pythonhosted.org/packages/06/f5/46201c428aebe0eecfa83df66bf3e6caa29659dbac5a56ddfd83cae0d4a4/texttable-1.6.3-py2.py3-none-any.whl\n",
            "Installing collected packages: texttable, python-igraph\n",
            "Successfully installed python-igraph-0.9.1 texttable-1.6.3\n",
            "Collecting cairocffi\n",
            "\u001b[?25l  Downloading https://files.pythonhosted.org/packages/84/ca/0bffed5116d21251469df200448667e90acaa5131edea869b44a3fbc73d0/cairocffi-1.2.0.tar.gz (70kB)\n",
            "\u001b[K     |████████████████████████████████| 71kB 3.4MB/s \n",
            "\u001b[?25hRequirement already satisfied: cffi>=1.1.0 in /usr/local/lib/python3.7/dist-packages (from cairocffi) (1.14.5)\n",
            "Requirement already satisfied: pycparser in /usr/local/lib/python3.7/dist-packages (from cffi>=1.1.0->cairocffi) (2.20)\n",
            "Building wheels for collected packages: cairocffi\n",
            "  Building wheel for cairocffi (setup.py) ... \u001b[?25l\u001b[?25hdone\n",
            "  Created wheel for cairocffi: filename=cairocffi-1.2.0-cp37-none-any.whl size=89548 sha256=96f7188883a8b3bfdae7424883d712cde2296cd45e4665363c55be2b91c4bd57\n",
            "  Stored in directory: /root/.cache/pip/wheels/40/76/48/f1effadceea83b32e7d957dd0f92db4db8b537d7b72b4ef374\n",
            "Successfully built cairocffi\n",
            "Installing collected packages: cairocffi\n",
            "Successfully installed cairocffi-1.2.0\n"
          ],
          "name": "stdout"
        }
      ]
    },
    {
      "cell_type": "code",
      "metadata": {
        "id": "tceTyB0ERyyP"
      },
      "source": [
        "import os\n",
        "import platform\n",
        "import numpy as np\n",
        "import igraph as ig\n",
        "from tqdm import tqdm\n",
        "from sklearn.svm import SVC\n",
        "import multiprocessing as mp\n",
        "from numpy import linalg as LA\n",
        "from collections import Counter\n",
        "from sklearn.metrics import accuracy_score\n",
        "from sklearn.model_selection import StratifiedKFold\n",
        "from IPython.core.display import display, Image\n",
        "from itertools import combinations,combinations_with_replacement"
      ],
      "execution_count": null,
      "outputs": []
    },
    {
      "cell_type": "code",
      "metadata": {
        "colab": {
          "base_uri": "https://localhost:8080/"
        },
        "id": "MdYPBCdq44Ny",
        "outputId": "f1bfb32f-c7ef-4443-8631-cf7a1b8e0452"
      },
      "source": [
        "print(\"Python Version: \", platform.python_version())\n",
        "print(\"Number of processors: \", mp.cpu_count())"
      ],
      "execution_count": null,
      "outputs": [
        {
          "output_type": "stream",
          "text": [
            "Python Version:  3.7.10\n",
            "Number of processors:  2\n"
          ],
          "name": "stdout"
        }
      ]
    },
    {
      "cell_type": "code",
      "metadata": {
        "colab": {
          "base_uri": "https://localhost:8080/"
        },
        "id": "SMSupki2R-7W",
        "outputId": "5fe7135a-75cd-47e4-91e9-fa57e6cee5c7"
      },
      "source": [
        "#mounting the data  on drive \n",
        "\n",
        "from google.colab import drive\n",
        "drive.mount('/content/drive')\n",
        "path = 'data/graph_data'"
      ],
      "execution_count": null,
      "outputs": [
        {
          "output_type": "stream",
          "text": [
            "Mounted at /content/drive\n"
          ],
          "name": "stdout"
        }
      ]
    },
    {
      "cell_type": "code",
      "metadata": {
        "id": "-ot7jHXISKn-"
      },
      "source": [
        "#retreving the file names\n",
        "\n",
        "def get_data(path):\n",
        "  graph_files = []\n",
        "  for file in os.listdir(path):\n",
        "    if file.endswith('gml'):\n",
        "        graph_files.append(os.path.join(path,file))\n",
        "  graph_files.sort()\n",
        "  return graph_files\n",
        "  "
      ],
      "execution_count": null,
      "outputs": []
    },
    {
      "cell_type": "code",
      "metadata": {
        "id": "KNTD_hRdSYaw"
      },
      "source": [
        "# making sure that multiple igraph plots are shown in single jupyter cell\n",
        "\n",
        "def plot(G,id):\n",
        "  print(\"Graph \"+id,end= \"\\n\\n\")\n",
        "  ig.plot(G,bbox = (200, 200)).save('temporary.png') \n",
        "  display(Image(filename='temporary.png'))\n",
        "  os.remove('temporary.png')"
      ],
      "execution_count": null,
      "outputs": []
    },
    {
      "cell_type": "code",
      "metadata": {
        "colab": {
          "base_uri": "https://localhost:8080/",
          "height": 487
        },
        "id": "eYOmvnG6Sl8P",
        "outputId": "8efb91af-6ba3-40b0-dc12-0be939a2d73b"
      },
      "source": [
        "#sample graph visualization\n",
        "\n",
        "path = '/content/drive/MyDrive/data/graph_data/MUTAG'\n",
        "graph_files = get_data(path)\n",
        "G0 = ig.read(graph_files[1])\n",
        "G1 = ig.read(graph_files[2])\n",
        "plot(G0,\"G1\")\n",
        "plot(G1,\"G2\")"
      ],
      "execution_count": null,
      "outputs": [
        {
          "output_type": "stream",
          "text": [
            "Graph G1\n",
            "\n"
          ],
          "name": "stdout"
        },
        {
          "output_type": "display_data",
          "data": {
            "image/png": "[encoded data removed]",
            "text/plain": [
              "<IPython.core.display.Image object>"
            ]
          },
          "metadata": {
            "tags": []
          }
        },
        {
          "output_type": "stream",
          "text": [
            "Graph G2\n",
            "\n"
          ],
          "name": "stdout"
        },
        {
          "output_type": "display_data",
          "data": {
            "image/png": "[encoded data removed]",
            "text/plain": [
              "<IPython.core.display.Image object>"
            ]
          },
          "metadata": {
            "tags": []
          }
        }
      ]
    },
    {
      "cell_type": "markdown",
      "metadata": {
        "id": "zAgKmyaIaoje"
      },
      "source": [
        "Label Matrix $\\text{L}$ is of size $|\\mathcal{L}| \\times |\\mathcal{V}|$ where $|\\mathcal{L}|$ is number of unique labels. "
      ]
    },
    {
      "cell_type": "code",
      "metadata": {
        "id": "CdizHkdeehWC"
      },
      "source": [
        "#read all .gml files as Igraph objects\n",
        "\n",
        "def get_Gs(path):\n",
        "  graph_files = get_data(path)\n",
        "  Gs = []\n",
        "  for graph_file in tqdm(graph_files):\n",
        "    g = ig.read(graph_file)\n",
        "    Gs.append(g)\n",
        "  return Gs  \n",
        "\n"
      ],
      "execution_count": null,
      "outputs": []
    },
    {
      "cell_type": "code",
      "metadata": {
        "id": "AkxH29L8dAXL"
      },
      "source": [
        "#scan through all graphs and find total number of unique labels\n",
        "\n",
        "def get_sizeof_L(graphs):\n",
        "  \"\"\"\n",
        "  Parameters \n",
        "  graphs : list of Igraph objects\n",
        "  Returns \n",
        "  sizeof_L : int \n",
        "  \"\"\"\n",
        "\n",
        "  n_Gs = len(graphs)\n",
        "  G_node_labels = list()\n",
        "  for g in graphs:\n",
        "    g_node_labels = g.vs['label']\n",
        "    G_node_labels.extend(g_node_labels)\n",
        "  sizeof_L = len(set(G_node_labels))\n",
        "  return sizeof_L  \n",
        "\n"
      ],
      "execution_count": null,
      "outputs": []
    },
    {
      "cell_type": "code",
      "metadata": {
        "colab": {
          "base_uri": "https://localhost:8080/"
        },
        "id": "M8cd1v3ddzQ_",
        "outputId": "4b8a38ce-7528-4ae7-f41b-1507cf594a4c"
      },
      "source": [
        "mutang_path = '/content/drive/MyDrive/data/graph_data/MUTAG'\n",
        "Gs = get_Gs(mutang_path)\n",
        "sizeof_L = get_sizeof_L(Gs)\n",
        "print(\" Number of unique labels : \",sizeof_L)"
      ],
      "execution_count": null,
      "outputs": [
        {
          "output_type": "stream",
          "text": [
            "100%|██████████| 188/188 [01:38<00:00,  1.91it/s]"
          ],
          "name": "stderr"
        },
        {
          "output_type": "stream",
          "text": [
            " Number of unique labels :  7\n"
          ],
          "name": "stdout"
        },
        {
          "output_type": "stream",
          "text": [
            "\n"
          ],
          "name": "stderr"
        }
      ]
    },
    {
      "cell_type": "code",
      "metadata": {
        "id": "0ihXtSOswTFZ"
      },
      "source": [
        "# builds the label matrix for Igraph g\n",
        "\n",
        "def get_labelmat(g,sizeof_L):\n",
        "  L_g = np.zeros((sizeof_L,g.vcount()))\n",
        "  g_labels = g.vs['label']\n",
        "  for i,l_r in enumerate(g_labels):\n",
        "    r = int(l_r)\n",
        "    if L_g[r][i] == 0. :\n",
        "      L_g[r][i] = 1\n",
        "  return L_g  \n",
        "  "
      ],
      "execution_count": null,
      "outputs": []
    },
    {
      "cell_type": "code",
      "metadata": {
        "colab": {
          "base_uri": "https://localhost:8080/"
        },
        "id": "WNrk57x1r-8I",
        "outputId": "606dcdc5-fc53-4b61-a400-3fada82340bc"
      },
      "source": [
        "print(\"Label Matrix L for Graph G0: \")\n",
        "L_G0  = get_labelmat(G0,sizeof_L)\n",
        "print(L_G0,end= \"\\n\\n\")\n",
        "print(\"Label Matrix L for Graph G1: \")\n",
        "L_G1  = get_labelmat(G1,sizeof_L)\n",
        "print(L_G1,end= \"\\n\\n\")\n",
        "print(\"Label Matrix L for Graph G0: \")\n",
        "E_G0  = np.asarray(G0.get_adjacency().data)\n",
        "print(E_G0,end= \"\\n\\n\")\n",
        "print(\"Label Matrix L for Graph G1: \")\n",
        "E_G1  = np.asarray(G1.get_adjacency().data)\n",
        "print(E_G1,end= \"\\n\\n\")"
      ],
      "execution_count": null,
      "outputs": [
        {
          "output_type": "stream",
          "text": [
            "Label Matrix L for Graph G0: \n",
            "[[0. 0. 1. 1. 1. 1. 1. 0. 1. 1. 1. 1. 0.]\n",
            " [0. 0. 0. 0. 0. 0. 0. 1. 0. 0. 0. 0. 1.]\n",
            " [1. 1. 0. 0. 0. 0. 0. 0. 0. 0. 0. 0. 0.]\n",
            " [0. 0. 0. 0. 0. 0. 0. 0. 0. 0. 0. 0. 0.]\n",
            " [0. 0. 0. 0. 0. 0. 0. 0. 0. 0. 0. 0. 0.]\n",
            " [0. 0. 0. 0. 0. 0. 0. 0. 0. 0. 0. 0. 0.]\n",
            " [0. 0. 0. 0. 0. 0. 0. 0. 0. 0. 0. 0. 0.]]\n",
            "\n",
            "Label Matrix L for Graph G1: \n",
            "[[0. 0. 1. 1. 1. 1. 1. 0. 1. 1. 1. 1. 0.]\n",
            " [0. 0. 0. 0. 0. 0. 0. 1. 0. 0. 0. 0. 1.]\n",
            " [1. 1. 0. 0. 0. 0. 0. 0. 0. 0. 0. 0. 0.]\n",
            " [0. 0. 0. 0. 0. 0. 0. 0. 0. 0. 0. 0. 0.]\n",
            " [0. 0. 0. 0. 0. 0. 0. 0. 0. 0. 0. 0. 0.]\n",
            " [0. 0. 0. 0. 0. 0. 0. 0. 0. 0. 0. 0. 0.]\n",
            " [0. 0. 0. 0. 0. 0. 0. 0. 0. 0. 0. 0. 0.]]\n",
            "\n",
            "Label Matrix L for Graph G0: \n",
            "[[0 0 0 0 0 0 0 0 0 0 0 0 1]\n",
            " [0 0 0 0 0 0 0 0 0 0 0 0 1]\n",
            " [0 0 0 1 0 0 0 0 1 0 0 0 0]\n",
            " [0 0 1 0 0 0 0 0 0 1 0 0 0]\n",
            " [0 0 0 0 0 1 0 0 0 1 0 0 0]\n",
            " [0 0 0 0 1 0 1 0 0 0 0 0 0]\n",
            " [0 0 0 0 0 1 0 1 0 0 0 0 0]\n",
            " [0 0 0 0 0 0 1 0 0 0 1 0 0]\n",
            " [0 0 1 0 0 0 0 0 0 0 0 1 0]\n",
            " [0 0 0 1 1 0 0 0 0 0 1 0 0]\n",
            " [0 0 0 0 0 0 0 1 0 1 0 1 0]\n",
            " [0 0 0 0 0 0 0 0 1 0 1 0 1]\n",
            " [1 1 0 0 0 0 0 0 0 0 0 1 0]]\n",
            "\n",
            "Label Matrix L for Graph G1: \n",
            "[[0 0 0 0 0 0 0 0 0 0 0 0 1]\n",
            " [0 0 0 0 0 0 0 0 0 0 0 0 1]\n",
            " [0 0 0 1 0 0 0 0 1 0 0 0 0]\n",
            " [0 0 1 0 0 0 0 0 0 1 0 0 0]\n",
            " [0 0 0 0 0 1 0 0 0 0 1 0 0]\n",
            " [0 0 0 0 1 0 1 0 0 0 0 0 0]\n",
            " [0 0 0 0 0 1 0 1 0 0 0 0 0]\n",
            " [0 0 0 0 0 0 1 0 0 1 0 0 0]\n",
            " [0 0 1 0 0 0 0 0 0 0 0 1 0]\n",
            " [0 0 0 1 0 0 0 1 0 0 1 0 0]\n",
            " [0 0 0 0 1 0 0 0 0 1 0 1 0]\n",
            " [0 0 0 0 0 0 0 0 1 0 1 0 1]\n",
            " [1 1 0 0 0 0 0 0 0 0 0 1 0]]\n",
            "\n"
          ],
          "name": "stdout"
        }
      ]
    },
    {
      "cell_type": "markdown",
      "metadata": {
        "id": "N_cjCtaDl385"
      },
      "source": [
        "###**Sufficient Condition for convergence of summation of matrix powers**\n",
        "\n",
        "Note that If $E$ is adjacency matrix, then $\\displaystyle \\sum_{i=0}^{\\infty} \\gamma^i E^i$ converges iff $\\gamma < \\frac{1}{\\text{max_degree}(G)}$ \n",
        "\n",
        "hence we can set  weight sequence $\\lambda_n = \\left[\\frac{1}{\\text{max_degree}(G)} - \\epsilon  \\right]^{n}$ for small $\\epsilon$ and $\\displaystyle \\sum_{n=0}^{\\infty} \\lambda_n E^n$ would converge to $\\left(I - \\gamma. E\\right)^{-1}$"
      ]
    },
    {
      "cell_type": "code",
      "metadata": {
        "id": "d8Btyc4qcVmS"
      },
      "source": [
        "#find the Delta(G) (which is maximum degree)\n",
        "\n",
        "def get_matpow(g,eps=0.001):\n",
        "  max_deg = g.maxdegree()\n",
        "  gamma = 1/max_deg - eps\n",
        "  I = np.eye(g.vcount()) \n",
        "  E = np.asarray(g.get_adjacency().data)\n",
        "  matpow = LA.inv(I - gamma*E)\n",
        "  return matpow"
      ],
      "execution_count": null,
      "outputs": []
    },
    {
      "cell_type": "code",
      "metadata": {
        "id": "c4h2fsTY2hgl"
      },
      "source": [
        "#calculating feature representation of Graph\n",
        "\n",
        "def get_features(g):\n",
        "  L  = get_labelmat(g,sizeof_L)\n",
        "  mat_pow_sum = get_matpow(g)\n",
        "  feature_matrix = L @ mat_pow_sum @ L.T \n",
        "  features = feature_matrix.ravel()\n",
        "  return features\n",
        "\n",
        "  "
      ],
      "execution_count": null,
      "outputs": []
    },
    {
      "cell_type": "code",
      "metadata": {
        "id": "e4hLvpGtq3us"
      },
      "source": [
        "# computes the features for pair of graphs and computes inner product\n",
        "\n",
        "def K(g1,g2):\n",
        "  features_g0 = get_features(g1)\n",
        "  features_g1 = get_features(g2)\n",
        "  K = np.dot(features_g0, features_g1)\n",
        "  return K "
      ],
      "execution_count": null,
      "outputs": []
    },
    {
      "cell_type": "code",
      "metadata": {
        "id": "09qqPY7ZzHKl"
      },
      "source": [
        "# builds kernel matrix for list of graphs\n",
        "\n",
        "def kernel_mat(graphs):\n",
        "  N_gs = len(graphs)\n",
        "  Kernel = np.zeros((N_gs,N_gs))\n",
        "  for i,j in tqdm(combinations_with_replacement(range(N_gs),2)):\n",
        "    Kernel[i][j] = Kernel[j][i] = K(graphs[i],graphs[j])\n",
        "  return Kernel  \n",
        "\n"
      ],
      "execution_count": null,
      "outputs": []
    },
    {
      "cell_type": "code",
      "metadata": {
        "id": "JRwBoTjXbXL-"
      },
      "source": [
        "# Does Graph Classification and returns Accuracy\n",
        "\n",
        "def graph_classification(Kernel_train,Kernel_test,y_train,y_test):\n",
        "  clf = SVC(kernel='precomputed')\n",
        "  clf.fit(Kernel_train,y_train)\n",
        "  y_pred = clf.predict(Kernel_test)\n",
        "  acc  = accuracy_score(y_test,y_pred)\n",
        "  return acc"
      ],
      "execution_count": null,
      "outputs": []
    },
    {
      "cell_type": "code",
      "metadata": {
        "id": "_tK7ObiXeXWo"
      },
      "source": [
        "# Does StratifiedKFold split and returns Avg Accuracy score\n",
        "\n",
        "def use_k_fold(Kernel,labels,n_splits):\n",
        "\n",
        "  skf = StratifiedKFold(n_splits=n_splits, shuffle=True)\n",
        "  acc_scores = list()\n",
        "  for train_idx,test_idx in skf.split(Kernel,labels):\n",
        "    \n",
        "    Kernel_train = Kernel[train_idx][:, train_idx]\n",
        "    Kernel_test  = Kernel[test_idx][:,train_idx]\n",
        "    y_train = labels[train_idx]\n",
        "    y_test  = labels[test_idx]\n",
        "    fold_score = graph_classification(Kernel_train,Kernel_test,y_train,y_test)\n",
        "    acc_scores.append(fold_score)\n",
        "\n",
        "  avg_acc_score = np.mean(acc_scores)\n",
        "  return avg_acc_score  \n"
      ],
      "execution_count": null,
      "outputs": []
    },
    {
      "cell_type": "code",
      "metadata": {
        "id": "cU4bGX6tyP2R"
      },
      "source": [
        "label_file = os.path.join(mutang_path, 'Labels.txt')\n",
        "labels = np.loadtxt(label_file)"
      ],
      "execution_count": null,
      "outputs": []
    },
    {
      "cell_type": "code",
      "metadata": {
        "colab": {
          "base_uri": "https://localhost:8080/"
        },
        "id": "4gnCOzr7jjMy",
        "outputId": "ce7967c5-a841-4ff9-d294-589fa914c300"
      },
      "source": [
        "print(len(Gs))\n",
        "Kernel = kernel_mat(Gs)"
      ],
      "execution_count": null,
      "outputs": [
        {
          "output_type": "stream",
          "text": [
            "175it [00:00, 1749.96it/s]"
          ],
          "name": "stderr"
        },
        {
          "output_type": "stream",
          "text": [
            "188\n"
          ],
          "name": "stdout"
        },
        {
          "output_type": "stream",
          "text": [
            "17766it [00:09, 1925.98it/s]\n"
          ],
          "name": "stderr"
        }
      ]
    },
    {
      "cell_type": "code",
      "metadata": {
        "colab": {
          "base_uri": "https://localhost:8080/"
        },
        "id": "W3IEENgRjr0s",
        "outputId": "3cfc1a09-9603-4787-c390-dede599af58e"
      },
      "source": [
        "n_splits = 5\n",
        "avg_acc_score = use_k_fold(Kernel,labels,n_splits)\n",
        "print(\"classification accuracy :\" , avg_acc_score)"
      ],
      "execution_count": null,
      "outputs": [
        {
          "output_type": "stream",
          "text": [
            "classification accuracy : 0.8722617354196303\n"
          ],
          "name": "stdout"
        }
      ]
    },
    {
      "cell_type": "markdown",
      "metadata": {
        "id": "vANwkQRddx2U"
      },
      "source": [
        "#**Contiguous Label Sequence Kernel**\n",
        "\n",
        "\n",
        "let $\\mathcal{S}_n$ denote the set of all possible label sequences of walks with $n$ edges and $\\lambda$ be sequence of weights. let $\\mathcal{W}_n(G)$ denote the set of all possible walks with $n$ edges in graph $G$. for a given walk $w \\in \\mathcal{W}_{n}(G)$  let $l_{i}(w)$ denote the i-th label of the walk. \n",
        "\n",
        "The sequence feature space is defined by one features for each possible label sequence. In particular, for any given length $n$ and label sequence $s_1,s_2,\\dots,s_{2n+1}$, the corresponding featuer value for every graph $\\mathcal{G}$ is \n",
        "\n",
        "$$\\begin{align} \\phi_{s}(G) &= \\sqrt{\\lambda_{s}(G)} |\\{ w \\in \\mathcal{W}_{n}(G), \\forall i : s_{i} = \\ell_{i}(w)\\}|\n",
        "\\end{align}$$\n",
        "\n",
        "\n",
        "we denote the direct product of graphs $G_1$ and $G_2$ is denoted as $G_1 \\times G_2$. vertex set and edge set of $G_1 \\times G_2$ is defined as follows \n",
        "\n",
        "$$\n",
        "\\begin{align} \\mathcal{V}(G_1 \\times G_2)&= \\{ (v_1,v_2)  \\in \\mathcal{V}_1 \\times \\mathcal{V}_2 : \\text{label}(v_1) = \\text{label}(v_2) \\} \\\\\n",
        "\\mathcal{E}(G_1 \\times G_2) &= \\{ ((u_1,u_2),(v_1,v_2)) \\in \\mathcal{V}^2(G_1 \\times G_2) : (u_1,v_1) \\in \\mathcal{E}(G_1) , (u_2,v_2) \\in \\mathcal{E}(G_2) , \\text{label}((u_1,v_1)) = \\text{label}((u_2,v_2)) \\}\n",
        "\\end{align}$$\n",
        "\n",
        "A vertex (edge) in graph $G_1 \\times G_2$ has the same label as the corresponding vertices(edges) in $G_1$ and $G_2$\n",
        "\n",
        "\n",
        "$$\n",
        "\\begin{align} |\\{ w\\in \\mathcal{W}_{n}(G' \\times G) , \\forall i : s_i = l_i(w) \\}|&= |\\{  w \\in \\mathcal{W}_{n}(G),\\forall i : s_i = l_i(w) \\}|.|\\{  w \\in \\mathcal{W}_{n}(G'),\\forall i : s_i = l_i(w) \\}|\n",
        "\\end{align}$$\n",
        "\n",
        "\n",
        "let $G_1,G_2$ be two graphs $\\text{E}_{\\times}$ denotes the adjacency matrix of their direct product $G_1 \\times G_2$ $\\text{E}_{\\times} =  E(G_1 \\times G_2)$ and let $\\mathcal{V}_{\\times}$ denote the vertex set of the direct product $\\mathcal{V}_{\\times} = \\mathcal{V}(G_1 \\times G_2)$. With the sequence of weights $\\lambda_0,\\lambda_1, \\dots $ the direct product kernel is defined as \n",
        "\n",
        "$$\\begin{align} k_{\\times}(G_1,G_2) &= \\sum_{i,j}^{|\\mathcal{V}_{\\times}|} \\left[ \\sum_{n=0}^{\\infty} \\lambda_{n}  \\text{E}_{\\times}^n \\right]_{ij} \n",
        "\\end{align}$$ if the limit exists \n",
        "\n",
        "then \n",
        "$$\\begin{align} k_{\\times}(G,G') &= \\left< \\phi(G) , \\phi(G') \\right> \\end{align}$$\n",
        "\n",
        "\n"
      ]
    },
    {
      "cell_type": "code",
      "metadata": {
        "id": "hhNT_kIs9LUM"
      },
      "source": [
        "# computing direct product of labeled-graphs\n",
        "def direct_product(g1,g2):\n",
        "\n",
        "  product_graph = ig.Graph()\n",
        "  for v1 in g1.vs:\n",
        "    for v2 in g2.vs:\n",
        "      if v1['label'] == v2['label']:\n",
        "        product_graph.add_vertex(id=(v1['id'],v2['id']), label=v1['label'] )\n",
        "\n",
        "  for e1 in g1.es:\n",
        "    for e2 in g2.es:\n",
        "      if e1['weight'] == e2['weight']:\n",
        "        \n",
        "        #check whether a vertex actually to product graph\n",
        "        e1_source_vertex,e1_target_vertex = g1.vs[e1.source],g1.vs[e1.source]\n",
        "        e2_source_vertex,e2_target_vertex = g2.vs[e2.source],g2.vs[e2.source]\n",
        "        \n",
        "        if(e1_source_vertex['label'] == e2_source_vertex['label'] and e2_target_vertex['label'] == e2_target_vertex['label']):\n",
        "\n",
        "          v1 = product_graph.vs.find(id=(e1_source_vertex['id'],e2_source_vertex['id']))\n",
        "          v2 = product_graph.vs.find(id=(e1_target_vertex['id'],e2_target_vertex['id']))\n",
        "          product_graph.add_edge(v1.index,v2.index, weight=e1['weight'])    \n",
        "          \n",
        "  return product_graph\n"
      ],
      "execution_count": null,
      "outputs": []
    },
    {
      "cell_type": "code",
      "metadata": {
        "colab": {
          "base_uri": "https://localhost:8080/",
          "height": 287
        },
        "id": "ILN19p2ZKclp",
        "outputId": "cd464217-817d-4e8a-d378-7729f78429b8"
      },
      "source": [
        "product_graph = direct_product(G0,G1)\n",
        "plot(product_graph,\"product\")\n",
        "print(\"number of vertices of Graph Product\" , product_graph.vcount())\n",
        "print(\"number of edges of Graph Product\" , product_graph.ecount())"
      ],
      "execution_count": null,
      "outputs": [
        {
          "output_type": "stream",
          "text": [
            "Graph product\n",
            "\n"
          ],
          "name": "stdout"
        },
        {
          "output_type": "display_data",
          "data": {
            "image/png": "[encoded data removed]",
            "text/plain": [
              "<IPython.core.display.Image object>"
            ]
          },
          "metadata": {
            "tags": []
          }
        },
        {
          "output_type": "stream",
          "text": [
            "number of vertices of Graph Product 89\n",
            "number of edges of Graph Product 66\n"
          ],
          "name": "stdout"
        }
      ]
    }
  ]
}