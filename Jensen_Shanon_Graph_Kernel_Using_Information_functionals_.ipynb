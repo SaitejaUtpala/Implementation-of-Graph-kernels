{
  "nbformat": 4,
  "nbformat_minor": 0,
  "metadata": {
    "colab": {
      "name": "Jensen Shanon Graph Kernel Using Information functionals .ipynb",
      "provenance": [],
      "collapsed_sections": []
    },
    "kernelspec": {
      "name": "python3",
      "display_name": "Python 3"
    },
    "language_info": {
      "name": "python"
    }
  },
  "cells": [
    {
      "cell_type": "markdown",
      "metadata": {
        "id": "vkn5IVpv-t7j"
      },
      "source": [
        "Jensen Shanon Graph Kernel Using Information Functionals \n",
        "https://projet.liris.cnrs.fr/imagine/pub/proceedings/ICPR-2012/media/files/1775.pdf\n",
        "\n",
        "Consider the graph $G=(V,E)$ with the node set $V= v_1,\\dots,v_n$ and edge set $E=e_1,\\dots e_n \\subset v \\times v $. The set of nodes \n",
        "\n",
        "$$S_{j}(v_i,G) = \\{ v \\in V | d(v_i,v) = j , j \\geq 1 \\} $$\n",
        "\n",
        "\n",
        "\n",
        "*   Node Functional\n",
        "\n",
        "    consider the graph $G=(V,E).$ For node $v_i \\in V$, the information functional $f^{V}$ is defined as :\n",
        "    $$f^{V}(v_i) := \\alpha^{c_1|S_1(v_i,G)|+\\dots+c_{\\rho}  |S_{\\rho}(v_i,G)| }$$\n",
        "\n"
      ]
    },
    {
      "cell_type": "code",
      "metadata": {
        "id": "i2HrEQ3h-Slm",
        "colab": {
          "base_uri": "https://localhost:8080/"
        },
        "outputId": "9452d3c3-5e0f-4bae-9864-03cca55f67b6"
      },
      "source": [
        "#install python-igraph : we use IGraph for manipulating and storing graph data\n",
        "\n",
        "!pip install python-igraph\n",
        "!pip install cairocffi"
      ],
      "execution_count": null,
      "outputs": [
        {
          "output_type": "stream",
          "text": [
            "Collecting python-igraph\n",
            "\u001b[?25l  Downloading https://files.pythonhosted.org/packages/ae/12/1fbdb491d89fad8abb7aca0189978655cfdc984a380b846478f2ccdfdad8/python_igraph-0.9.1-cp37-cp37m-manylinux2010_x86_64.whl (3.2MB)\n",
            "\u001b[K     |████████████████████████████████| 3.2MB 11.7MB/s \n",
            "\u001b[?25hCollecting texttable>=1.6.2\n",
            "  Downloading https://files.pythonhosted.org/packages/06/f5/46201c428aebe0eecfa83df66bf3e6caa29659dbac5a56ddfd83cae0d4a4/texttable-1.6.3-py2.py3-none-any.whl\n",
            "Installing collected packages: texttable, python-igraph\n",
            "Successfully installed python-igraph-0.9.1 texttable-1.6.3\n",
            "Collecting cairocffi\n",
            "\u001b[?25l  Downloading https://files.pythonhosted.org/packages/84/ca/0bffed5116d21251469df200448667e90acaa5131edea869b44a3fbc73d0/cairocffi-1.2.0.tar.gz (70kB)\n",
            "\u001b[K     |████████████████████████████████| 71kB 3.5MB/s \n",
            "\u001b[?25hRequirement already satisfied: cffi>=1.1.0 in /usr/local/lib/python3.7/dist-packages (from cairocffi) (1.14.5)\n",
            "Requirement already satisfied: pycparser in /usr/local/lib/python3.7/dist-packages (from cffi>=1.1.0->cairocffi) (2.20)\n",
            "Building wheels for collected packages: cairocffi\n",
            "  Building wheel for cairocffi (setup.py) ... \u001b[?25l\u001b[?25hdone\n",
            "  Created wheel for cairocffi: filename=cairocffi-1.2.0-cp37-none-any.whl size=89548 sha256=6a5d6e225e8ab64560247cedaa90552aec44858dd7caa660d4fa25805806c695\n",
            "  Stored in directory: /root/.cache/pip/wheels/40/76/48/f1effadceea83b32e7d957dd0f92db4db8b537d7b72b4ef374\n",
            "Successfully built cairocffi\n",
            "Installing collected packages: cairocffi\n",
            "Successfully installed cairocffi-1.2.0\n"
          ],
          "name": "stdout"
        }
      ]
    },
    {
      "cell_type": "code",
      "metadata": {
        "id": "Z-SHVQWwSn8p"
      },
      "source": [
        "import os\n",
        "import igraph as ig\n",
        "from collections import Counter\n",
        "from IPython.core.display import display, Image\n",
        "from scipy.stats import entropy"
      ],
      "execution_count": null,
      "outputs": []
    },
    {
      "cell_type": "code",
      "metadata": {
        "colab": {
          "base_uri": "https://localhost:8080/"
        },
        "id": "hzxVriotSvTV",
        "outputId": "c6c81708-9057-48b0-b15b-cc0963cd5ad5"
      },
      "source": [
        "#mounting the data  on drive \n",
        "\n",
        "from google.colab import drive\n",
        "drive.mount('/content/drive')\n",
        "path = 'data/graph_data'"
      ],
      "execution_count": null,
      "outputs": [
        {
          "output_type": "stream",
          "text": [
            "Mounted at /content/drive\n"
          ],
          "name": "stdout"
        }
      ]
    },
    {
      "cell_type": "code",
      "metadata": {
        "id": "hMsBIbKgS6eL"
      },
      "source": [
        "#retreving the file names\n",
        "def get_data(path):\n",
        "  graph_files = []\n",
        "  for file in os.listdir(path):\n",
        "    if file.endswith('gml'):\n",
        "        graph_files.append(os.path.join(path,file))\n",
        "  graph_files.sort()\n",
        "  return graph_files\n",
        "  "
      ],
      "execution_count": null,
      "outputs": []
    },
    {
      "cell_type": "code",
      "metadata": {
        "id": "oy48e-QWS8Qe"
      },
      "source": [
        "def read_gml(filename):\n",
        "  node_features = []\n",
        "  g = ig.read(filename)\n",
        "  if not 'label' in g.vs.attribute_names():\n",
        "    g.vs['label'] = list(map(str,[l for l in g.vs.degree()]))\n",
        "  node_features = g.vs['label']\n",
        "  adj_mat  = np.asarray(g.get_adjacency().data)  \n",
        "  return node_features,adj_mat"
      ],
      "execution_count": null,
      "outputs": []
    },
    {
      "cell_type": "code",
      "metadata": {
        "id": "b79gZrEsTAjZ"
      },
      "source": [
        "#making sure that multiple igraph plots are shown in single jupyter cell\n",
        "\n",
        "def plot(G,id):\n",
        "  print(\"Graph \"+id,end= \"\\n\\n\")\n",
        "  ig.plot(G,bbox = (200, 200)).save('temporary.png') \n",
        "  display(Image(filename='temporary.png'))\n",
        "  os.remove('temporary.png')"
      ],
      "execution_count": null,
      "outputs": []
    },
    {
      "cell_type": "code",
      "metadata": {
        "colab": {
          "base_uri": "https://localhost:8080/",
          "height": 487
        },
        "id": "JV8Jr6PUTDzL",
        "outputId": "492fb680-047e-4f51-8cbc-38a770b6afbe"
      },
      "source": [
        "#sample graph\n",
        "\n",
        "path = '/content/drive/MyDrive/data/graph_data/MUTAG'\n",
        "graph_files = get_data(path)\n",
        "G0 = ig.read(graph_files[1])\n",
        "G1 = ig.read(graph_files[2])\n",
        "plot(G0,\"G1\")\n",
        "plot(G1,\"G2\")"
      ],
      "execution_count": null,
      "outputs": [
        {
          "output_type": "stream",
          "text": [
            "Graph G1\n",
            "\n"
          ],
          "name": "stdout"
        },
        {
          "output_type": "display_data",
          "data": {
            "image/png": "[encoded data removed]",
            "text/plain": [
              "<IPython.core.display.Image object>"
            ]
          },
          "metadata": {
            "tags": []
          }
        },
        {
          "output_type": "stream",
          "text": [
            "Graph G2\n",
            "\n"
          ],
          "name": "stdout"
        },
        {
          "output_type": "display_data",
          "data": {
            "image/png": "[encoded data removed]",
            "text/plain": [
              "<IPython.core.display.Image object>"
            ]
          },
          "metadata": {
            "tags": []
          }
        }
      ]
    },
    {
      "cell_type": "code",
      "metadata": {
        "id": "_N_d1PYXoc47"
      },
      "source": [
        "def node_functional(g,alpha=2):\n",
        "  \"\"\"\n",
        "  graph \n",
        "  Returns \n",
        "  ----------\n",
        "  returns node_functional of graph\n",
        "  \"\"\"\n",
        "\n",
        "  Eg = np.asarray(g.get_adjacency(attribute = \"weight\").data)\n",
        "  csr_graph = csr_matrix(Eg)\n",
        "  dist_matrix = johnson(csgraph=csr_graph, directed=False)\n",
        "  fs = []\n",
        "  for v in g.vs:\n",
        "    temp = dist_matrix[v.index]\n",
        "    unique, counts = np.unique(temp, return_counts=True) \n",
        "    rho = counts.shape[0]\n",
        "    b_k = rho - np.arange(1,rho+1) + 1\n",
        "    pow = (counts * b_k).sum()\n",
        "    fs.append(alpha**pow)\n",
        "\n",
        "  retur\n",
        "\n",
        "\n",
        "\n",
        "\n"
      ],
      "execution_count": null,
      "outputs": []
    },
    {
      "cell_type": "code",
      "metadata": {
        "id": "SI4tG_jfTMRP"
      },
      "source": [
        "def entropy_with_functional(graph):\n",
        "  \"\"\"\n",
        "  f : |V| values \n",
        "  \"\"\"\n",
        "  node = node_functional(graph)\n",
        "  ent  = entropy(values)  \n",
        "  return ent"
      ],
      "execution_count": null,
      "outputs": []
    },
    {
      "cell_type": "code",
      "metadata": {
        "id": "_FV8B6GSsw4G"
      },
      "source": [
        "def disjoint_union_graph(g1,g2):\n",
        "  \"\"\"\n",
        "  g1 : graph\n",
        "  g2 : graph\n",
        "  Returns:\n",
        "  ---------\n",
        "  disjoint union graph\n",
        "  \"\"\"\n",
        "\n",
        "  product_graph = ig.disjoint_union([g1,g2])\n",
        "  return product_graph"
      ],
      "execution_count": null,
      "outputs": []
    },
    {
      "cell_type": "code",
      "metadata": {
        "id": "8YwNERNghmcL"
      },
      "source": [
        "def direct_product_graph(g1,g2):\n",
        "  \"\"\"\n",
        "  g1 : graph\n",
        "  g2 : graph\n",
        "  Returns:\n",
        "  -----------\n",
        "  direct product graph\n",
        "  \"\"\"\n",
        "\n",
        "  product_graph = ig.Graph()\n",
        "  for v1 in g1.vs:\n",
        "    for v2 in g2.vs:\n",
        "      if v1['label'] == v2['label']:\n",
        "        product_graph.add_vertex(id=(v1['id'],v2['id']), label=v1['label'] )\n",
        "\n",
        "  for e1 in g1.es:\n",
        "    for e2 in g2.es:\n",
        "      if e1['weight'] == e2['weight']:\n",
        "        \n",
        "        #check whether a vertex actually to product graph\n",
        "        e1_source_vertex,e1_target_vertex = g1.vs[e1.source],g1.vs[e1.target]\n",
        "        e2_source_vertex,e2_target_vertex = g2.vs[e2.source],g2.vs[e2.target]\n",
        "        \n",
        "        if(e1_source_vertex['label'] == e2_source_vertex['label'] and e1_target_vertex['label'] == e2_target_vertex['label']):\n",
        "\n",
        "          v1 = product_graph.vs.find(id=(e1_source_vertex['id'],e2_source_vertex['id']))\n",
        "          v2 = product_graph.vs.find(id=(e1_target_vertex['id'],e2_target_vertex['id']))\n",
        "          product_graph.add_edge(v1.index,v2.index, weight=e1['weight'])     \n",
        "               \n",
        "  return product_graph"
      ],
      "execution_count": null,
      "outputs": []
    },
    {
      "cell_type": "code",
      "metadata": {
        "id": "d-91ah4wnR59"
      },
      "source": [
        "#calculating Kernel Matrix of Graph according to contiguous label sequences\n",
        "\n",
        "\n",
        "def jsif_kernel_mat(graphs):\n",
        "  N_gs = len(graphs)\n",
        "  Kernel = np.zeros((N_gs,N_gs))\n",
        "  for i,j in tqdm(combinations_with_replacement(range(N_gs),2)):\n",
        "\n",
        "    graph_product = direct_product(graphs[i],graphs[j])\n",
        "    H_gp = entropy_with_functional(graph_product)\n",
        "    H_g1 = entropy_with_functional(graphs[i])\n",
        "    H_g2 = entropy_with_functional(graphs[j])\n",
        "    H_avg = (H_g1+H_g2)/2\n",
        "    K    = math.log(2) - H_gp + H_avg\n",
        "    Kernel[i][j] = Kernel[j][i] = K\n",
        "  return Kernel  "
      ],
      "execution_count": null,
      "outputs": []
    }
  ]
}